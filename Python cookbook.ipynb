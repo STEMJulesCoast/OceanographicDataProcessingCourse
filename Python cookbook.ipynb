{
 "cells": [
  {
   "cell_type": "markdown",
   "id": "7dda1926-d817-47a6-bf38-ed7e40b5163f",
   "metadata": {},
   "source": [
    "# Python Basics Cookbook\n",
    "\n",
    "Welcome to the Python Basics Cookbook! Python is an incredibly versatile and easy-to-learn programming language that powers everything from web applications to data science projects. Its simple syntax reads like English, making it a favorite choice for beginners and experienced developers alike.\n",
    "\n",
    "In this cookbook, you'll find essential building blocks of Python, from numbers and collections to functions. Each entry provides concise examples to help you understand the concept, making it perfect for quick reference or a jumping-off point for further exploration. As you grow in your Python journey, feel free to expand on these examples, adapt them to your needs, or add your own \"recipes\"!\n",
    "\n",
    "Happy coding!\n"
   ]
  },
  {
   "cell_type": "code",
   "execution_count": 1,
   "id": "0caad05f-96bc-4a39-a1aa-ac31f991a58e",
   "metadata": {
    "tags": []
   },
   "outputs": [],
   "source": [
    "import math"
   ]
  },
  {
   "cell_type": "markdown",
   "id": "67e1cda3-82f3-4ce0-b691-46a8eea7bc8d",
   "metadata": {},
   "source": [
    "# 1. Primitives\n",
    "\n",
    "## Numbers\n",
    "\n",
    "Python has integers and floats. Integers arewhole number, which can be either positive, negative, or zero. It does not have any fractional or decimal parts. Floats are fractional numbers. You can use the `type()` method to check the value of an object"
   ]
  },
  {
   "cell_type": "code",
   "execution_count": 2,
   "id": "5f66a91d-6736-4cb6-8c4b-82031859d1bc",
   "metadata": {
    "tags": []
   },
   "outputs": [
    {
     "data": {
      "text/plain": [
       "int"
      ]
     },
     "execution_count": 2,
     "metadata": {},
     "output_type": "execute_result"
    }
   ],
   "source": [
    "type(1)"
   ]
  },
  {
   "cell_type": "code",
   "execution_count": 3,
   "id": "7ca4b37a-a4b0-4f27-8778-1e5837a51614",
   "metadata": {
    "tags": []
   },
   "outputs": [
    {
     "data": {
      "text/plain": [
       "float"
      ]
     },
     "execution_count": 3,
     "metadata": {},
     "output_type": "execute_result"
    }
   ],
   "source": [
    "type(12.8)"
   ]
  },
  {
   "cell_type": "code",
   "execution_count": 4,
   "id": "854deed9-0cf5-4881-a8ed-c3bf2d27e48b",
   "metadata": {
    "tags": []
   },
   "outputs": [
    {
     "data": {
      "text/plain": [
       "float"
      ]
     },
     "execution_count": 4,
     "metadata": {},
     "output_type": "execute_result"
    }
   ],
   "source": [
    "type(math.pi)"
   ]
  },
  {
   "cell_type": "markdown",
   "id": "381eb543-bd81-4329-bfba-2bc560d31e0d",
   "metadata": {},
   "source": [
    "### Basic mathematic operators"
   ]
  },
  {
   "cell_type": "code",
   "execution_count": 5,
   "id": "afbd5f03-7510-4478-8dee-61845a6da39f",
   "metadata": {
    "tags": []
   },
   "outputs": [
    {
     "data": {
      "text/plain": [
       "20"
      ]
     },
     "execution_count": 5,
     "metadata": {},
     "output_type": "execute_result"
    }
   ],
   "source": [
    "10+10"
   ]
  },
  {
   "cell_type": "code",
   "execution_count": 6,
   "id": "07914415-9f53-4d6f-a7cc-84aacf132eb1",
   "metadata": {
    "tags": []
   },
   "outputs": [
    {
     "data": {
      "text/plain": [
       "0"
      ]
     },
     "execution_count": 6,
     "metadata": {},
     "output_type": "execute_result"
    }
   ],
   "source": [
    "10-10"
   ]
  },
  {
   "cell_type": "code",
   "execution_count": 7,
   "id": "62185286-c50e-4452-b183-855b84e9b433",
   "metadata": {
    "tags": []
   },
   "outputs": [
    {
     "data": {
      "text/plain": [
       "100"
      ]
     },
     "execution_count": 7,
     "metadata": {},
     "output_type": "execute_result"
    }
   ],
   "source": [
    "10*10"
   ]
  },
  {
   "cell_type": "code",
   "execution_count": 8,
   "id": "f31a5551-25e8-4d35-8769-1a45cb0edfa4",
   "metadata": {
    "tags": []
   },
   "outputs": [
    {
     "data": {
      "text/plain": [
       "10000000000"
      ]
     },
     "execution_count": 8,
     "metadata": {},
     "output_type": "execute_result"
    }
   ],
   "source": [
    "10**10"
   ]
  },
  {
   "cell_type": "code",
   "execution_count": 9,
   "id": "9865275c-e558-4814-8347-8f9567406946",
   "metadata": {
    "tags": []
   },
   "outputs": [
    {
     "name": "stdout",
     "output_type": "stream",
     "text": [
      "3\n"
     ]
    }
   ],
   "source": [
    "a=4\n",
    "a=a-1\n",
    "print(a)"
   ]
  },
  {
   "cell_type": "code",
   "execution_count": 10,
   "id": "019417c1-2dcf-415f-a9e2-0c012b381025",
   "metadata": {
    "tags": []
   },
   "outputs": [
    {
     "name": "stdout",
     "output_type": "stream",
     "text": [
      "5\n"
     ]
    }
   ],
   "source": [
    "a=a+2\n",
    "print(a)"
   ]
  },
  {
   "cell_type": "code",
   "execution_count": 11,
   "id": "8f1b2edb-0a2f-4657-a2f1-955d1556f68b",
   "metadata": {
    "tags": []
   },
   "outputs": [
    {
     "name": "stdout",
     "output_type": "stream",
     "text": [
      "15\n"
     ]
    }
   ],
   "source": [
    "a +=10\n",
    "print(a)"
   ]
  },
  {
   "cell_type": "code",
   "execution_count": 12,
   "id": "75310daf-9399-4bdb-9856-8284a96a9ac3",
   "metadata": {
    "tags": []
   },
   "outputs": [
    {
     "name": "stdout",
     "output_type": "stream",
     "text": [
      "10\n"
     ]
    }
   ],
   "source": [
    "a -=5\n",
    "print(a)"
   ]
  },
  {
   "cell_type": "code",
   "execution_count": 13,
   "id": "2fb02f1c-f3ae-435d-88b3-5c64ca3eadef",
   "metadata": {
    "tags": []
   },
   "outputs": [
    {
     "name": "stdout",
     "output_type": "stream",
     "text": [
      "50\n"
     ]
    }
   ],
   "source": [
    "a *=5\n",
    "print(a)"
   ]
  },
  {
   "cell_type": "markdown",
   "id": "8c7468a9-9e14-4e8e-8881-99db4dd3b462",
   "metadata": {
    "tags": []
   },
   "source": [
    "What happens when you divide an integer by an integer?"
   ]
  },
  {
   "cell_type": "code",
   "execution_count": 14,
   "id": "6cd56977-9288-4d5b-8b58-5ea1f6bd196f",
   "metadata": {
    "tags": []
   },
   "outputs": [
    {
     "data": {
      "text/plain": [
       "3.3333333333333335"
      ]
     },
     "execution_count": 14,
     "metadata": {},
     "output_type": "execute_result"
    }
   ],
   "source": [
    "10/3"
   ]
  },
  {
   "cell_type": "markdown",
   "id": "b11d4249-0b79-40bf-a23d-c9583e17e6d6",
   "metadata": {},
   "source": [
    "If you work with an older version of Python it could be possible, that Python returns a whole number without the remainder. In newer versions you don't need to turn one number into a float to get the fraction."
   ]
  },
  {
   "cell_type": "code",
   "execution_count": 15,
   "id": "7d2c3dd0-f8f1-4a30-8c54-225a9429c273",
   "metadata": {
    "tags": []
   },
   "outputs": [
    {
     "data": {
      "text/plain": [
       "int"
      ]
     },
     "execution_count": 15,
     "metadata": {},
     "output_type": "execute_result"
    }
   ],
   "source": [
    "type(3)"
   ]
  },
  {
   "cell_type": "code",
   "execution_count": 16,
   "id": "31f5a718-cd66-4982-9b21-ce6ec263f2df",
   "metadata": {
    "tags": []
   },
   "outputs": [
    {
     "data": {
      "text/plain": [
       "float"
      ]
     },
     "execution_count": 16,
     "metadata": {},
     "output_type": "execute_result"
    }
   ],
   "source": [
    "type(float(3))"
   ]
  },
  {
   "cell_type": "markdown",
   "id": "0379ec77-c008-428f-a9b0-e537e3e6b01c",
   "metadata": {},
   "source": [
    "with `float()` you can convert an integer into a float.  \n",
    "\n",
    "## Strings  \n",
    "\n",
    "Strings are - as the name  already suggest - a string of characters. Python recognizes single and double quotes as the same thing - it's the beginning and the end of a string."
   ]
  },
  {
   "cell_type": "code",
   "execution_count": 17,
   "id": "30898223-3b45-454b-82cd-eaed32679bee",
   "metadata": {
    "tags": []
   },
   "outputs": [
    {
     "data": {
      "text/plain": [
       "'Hello World'"
      ]
     },
     "execution_count": 17,
     "metadata": {},
     "output_type": "execute_result"
    }
   ],
   "source": [
    "'Hello World'"
   ]
  },
  {
   "cell_type": "code",
   "execution_count": 18,
   "id": "c41d5170-cca5-4e34-b022-dc9912219eac",
   "metadata": {
    "tags": []
   },
   "outputs": [
    {
     "data": {
      "text/plain": [
       "'Hello World'"
      ]
     },
     "execution_count": 18,
     "metadata": {},
     "output_type": "execute_result"
    }
   ],
   "source": [
    "\"Hello World\""
   ]
  },
  {
   "cell_type": "markdown",
   "id": "76d6e057-39f2-4afd-8c0c-59ca208e3e0a",
   "metadata": {},
   "source": [
    "You can join strings with use of variables:"
   ]
  },
  {
   "cell_type": "code",
   "execution_count": 19,
   "id": "b8045a2b-83ff-41ef-8795-4352cbe5d755",
   "metadata": {
    "tags": []
   },
   "outputs": [
    {
     "data": {
      "text/plain": [
       "'Hello World'"
      ]
     },
     "execution_count": 19,
     "metadata": {},
     "output_type": "execute_result"
    }
   ],
   "source": [
    "a = 'Hello '\n",
    "b= 'World'\n",
    "a+b"
   ]
  },
  {
   "cell_type": "markdown",
   "id": "8baca1b0-b2a6-4173-ad4f-dce14fdd3b14",
   "metadata": {},
   "source": [
    "There are several string methods for you to choose from - like `upper()`, `lower()`, `replace()`, and `count()`"
   ]
  },
  {
   "cell_type": "code",
   "execution_count": 20,
   "id": "0a41da2e-9c39-43a1-9933-a55804b3dd5e",
   "metadata": {
    "tags": []
   },
   "outputs": [
    {
     "data": {
      "text/plain": [
       "'OH NO'"
      ]
     },
     "execution_count": 20,
     "metadata": {},
     "output_type": "execute_result"
    }
   ],
   "source": [
    "c = 'Oh No'\n",
    "c.upper()"
   ]
  },
  {
   "cell_type": "code",
   "execution_count": 21,
   "id": "637061d1-e6d7-4b2c-8c8f-fd029c45a7ee",
   "metadata": {
    "tags": []
   },
   "outputs": [
    {
     "data": {
      "text/plain": [
       "'oh no'"
      ]
     },
     "execution_count": 21,
     "metadata": {},
     "output_type": "execute_result"
    }
   ],
   "source": [
    "c.lower()"
   ]
  },
  {
   "cell_type": "markdown",
   "id": "a38bbd3f-772c-4789-8ef7-41cfd3cb7687",
   "metadata": {
    "tags": []
   },
   "source": [
    "Count lets you know how many times x appears in the string (can be numbers or\n",
    "a string of words as well). It's case sensitive"
   ]
  },
  {
   "cell_type": "code",
   "execution_count": 22,
   "id": "a69309db-1b26-43bd-b223-7ea2137bedd4",
   "metadata": {
    "tags": []
   },
   "outputs": [
    {
     "data": {
      "text/plain": [
       "1"
      ]
     },
     "execution_count": 22,
     "metadata": {},
     "output_type": "execute_result"
    }
   ],
   "source": [
    "c.count('N')"
   ]
  },
  {
   "cell_type": "markdown",
   "id": "aad99921-b454-4bb8-875a-de07ec0a27f9",
   "metadata": {},
   "source": [
    "Replace allows you to replace any character with another character."
   ]
  },
  {
   "cell_type": "code",
   "execution_count": 23,
   "id": "7904afeb-868e-4dd4-83aa-8860447ab53a",
   "metadata": {
    "tags": []
   },
   "outputs": [
    {
     "data": {
      "text/plain": [
       "'Oh Yes'"
      ]
     },
     "execution_count": 23,
     "metadata": {},
     "output_type": "execute_result"
    }
   ],
   "source": [
    "c.replace('No','Yes')"
   ]
  },
  {
   "cell_type": "markdown",
   "id": "ac6a4dd7-bb62-4283-9f83-8f5f2d799ade",
   "metadata": {},
   "source": [
    "Furthermore, you can format strings using `format()`"
   ]
  },
  {
   "cell_type": "code",
   "execution_count": 24,
   "id": "2d3cf8f7-1e49-4e76-87a9-09f338b531e1",
   "metadata": {
    "tags": []
   },
   "outputs": [
    {
     "data": {
      "text/plain": [
       "'Christmas is coming soon'"
      ]
     },
     "execution_count": 24,
     "metadata": {},
     "output_type": "execute_result"
    }
   ],
   "source": [
    "'{0} is coming {1}'.format('Christmas','soon')"
   ]
  },
  {
   "cell_type": "markdown",
   "id": "d4b61610-7952-44dc-8f31-82602078dec5",
   "metadata": {},
   "source": [
    "## Booleans\n",
    "\n",
    "Boolean values are simply `True` and `False`. Check to see if a value is equal to another one with two equa signs."
   ]
  },
  {
   "cell_type": "code",
   "execution_count": 25,
   "id": "d1dc9142-5367-43f6-9bd1-ebbc19a94e4d",
   "metadata": {
    "tags": []
   },
   "outputs": [
    {
     "data": {
      "text/plain": [
       "True"
      ]
     },
     "execution_count": 25,
     "metadata": {},
     "output_type": "execute_result"
    }
   ],
   "source": [
    "5 == 5"
   ]
  },
  {
   "cell_type": "code",
   "execution_count": 26,
   "id": "22aeeaef-2223-4c50-8819-2b2a00c1ea9d",
   "metadata": {
    "tags": []
   },
   "outputs": [
    {
     "data": {
      "text/plain": [
       "False"
      ]
     },
     "execution_count": 26,
     "metadata": {},
     "output_type": "execute_result"
    }
   ],
   "source": [
    "6 == 7"
   ]
  },
  {
   "cell_type": "code",
   "execution_count": 27,
   "id": "bf6292b6-58cc-4e6b-ba20-9c8268b6013c",
   "metadata": {
    "tags": []
   },
   "outputs": [
    {
     "data": {
      "text/plain": [
       "False"
      ]
     },
     "execution_count": 27,
     "metadata": {},
     "output_type": "execute_result"
    }
   ],
   "source": [
    "'Christmas' == 'family time'"
   ]
  },
  {
   "cell_type": "markdown",
   "id": "76c55dcd-b8d2-4c23-908b-0f9e9f54d4b1",
   "metadata": {},
   "source": [
    "Maybe you would discuss about this, but as you can see, the words differ, so `False` is correct. You can also check for inequalities using `!=`"
   ]
  },
  {
   "cell_type": "code",
   "execution_count": 28,
   "id": "50fa696b-fe4c-4365-8d8b-531fda6f6eb6",
   "metadata": {
    "tags": []
   },
   "outputs": [
    {
     "data": {
      "text/plain": [
       "False"
      ]
     },
     "execution_count": 28,
     "metadata": {},
     "output_type": "execute_result"
    }
   ],
   "source": [
    "5 != 5"
   ]
  },
  {
   "cell_type": "code",
   "execution_count": 29,
   "id": "25e2d85f-f445-48f2-9b89-72de70694345",
   "metadata": {
    "tags": []
   },
   "outputs": [
    {
     "data": {
      "text/plain": [
       "True"
      ]
     },
     "execution_count": 29,
     "metadata": {},
     "output_type": "execute_result"
    }
   ],
   "source": [
    "6 != 7"
   ]
  },
  {
   "cell_type": "code",
   "execution_count": 30,
   "id": "c86f7405-19ca-4f44-9f0d-1eb1607e954f",
   "metadata": {
    "tags": []
   },
   "outputs": [
    {
     "data": {
      "text/plain": [
       "True"
      ]
     },
     "execution_count": 30,
     "metadata": {},
     "output_type": "execute_result"
    }
   ],
   "source": [
    "'Christmas' != 'family time'"
   ]
  },
  {
   "cell_type": "markdown",
   "id": "1fd50c5a-b8fb-45e6-960e-9890860e2d09",
   "metadata": {},
   "source": [
    "You can also test for `>,<,>=,<=`"
   ]
  },
  {
   "cell_type": "code",
   "execution_count": 31,
   "id": "06d6d694-b717-4885-ae35-b78a381f40e9",
   "metadata": {
    "tags": []
   },
   "outputs": [
    {
     "data": {
      "text/plain": [
       "False"
      ]
     },
     "execution_count": 31,
     "metadata": {},
     "output_type": "execute_result"
    }
   ],
   "source": [
    "5 > 5"
   ]
  },
  {
   "cell_type": "code",
   "execution_count": 32,
   "id": "bfa48ca4-e294-4652-9251-ab08464c43a6",
   "metadata": {
    "tags": []
   },
   "outputs": [
    {
     "data": {
      "text/plain": [
       "True"
      ]
     },
     "execution_count": 32,
     "metadata": {},
     "output_type": "execute_result"
    }
   ],
   "source": [
    "6 < 7"
   ]
  },
  {
   "cell_type": "code",
   "execution_count": 33,
   "id": "a11008f4-007e-41ac-bcd1-7100a6dbc953",
   "metadata": {
    "tags": []
   },
   "outputs": [
    {
     "data": {
      "text/plain": [
       "True"
      ]
     },
     "execution_count": 33,
     "metadata": {},
     "output_type": "execute_result"
    }
   ],
   "source": [
    "5 >= 5"
   ]
  },
  {
   "cell_type": "code",
   "execution_count": 34,
   "id": "f24f355e-3b54-4380-b50f-21c2589b3c75",
   "metadata": {
    "tags": []
   },
   "outputs": [
    {
     "data": {
      "text/plain": [
       "True"
      ]
     },
     "execution_count": 34,
     "metadata": {},
     "output_type": "execute_result"
    }
   ],
   "source": [
    "6 <= 7"
   ]
  },
  {
   "cell_type": "code",
   "execution_count": 35,
   "id": "78d143b0-048e-4fc9-bb27-996e58a3c450",
   "metadata": {
    "tags": []
   },
   "outputs": [
    {
     "data": {
      "text/plain": [
       "False"
      ]
     },
     "execution_count": 35,
     "metadata": {},
     "output_type": "execute_result"
    }
   ],
   "source": [
    "6 <=7 > 8"
   ]
  },
  {
   "cell_type": "code",
   "execution_count": 36,
   "id": "263a60dd-f94c-4cfc-8197-88c0eed1bc27",
   "metadata": {
    "tags": []
   },
   "outputs": [
    {
     "data": {
      "text/plain": [
       "False"
      ]
     },
     "execution_count": 36,
     "metadata": {},
     "output_type": "execute_result"
    }
   ],
   "source": [
    "'Christmas' >= 'family time'"
   ]
  },
  {
   "cell_type": "markdown",
   "id": "c6e0c9a9-8358-436b-9e74-8b692215c9bb",
   "metadata": {},
   "source": [
    "# 2. Collections\n",
    "\n",
    "## Lists\n",
    "\n",
    "Lists are somehow containers for holding values"
   ]
  },
  {
   "cell_type": "code",
   "execution_count": 37,
   "id": "e1fe0579-e655-4346-a930-c7e712f93c70",
   "metadata": {
    "tags": []
   },
   "outputs": [],
   "source": [
    "data_range =['2019','2020','2021','2022']"
   ]
  },
  {
   "cell_type": "code",
   "execution_count": 38,
   "id": "85975ef3-2652-4f42-891a-4f2fbd0c0c20",
   "metadata": {
    "tags": []
   },
   "outputs": [
    {
     "data": {
      "text/plain": [
       "['2019', '2020', '2021', '2022']"
      ]
     },
     "execution_count": 38,
     "metadata": {},
     "output_type": "execute_result"
    }
   ],
   "source": [
    "data_range "
   ]
  },
  {
   "cell_type": "markdown",
   "id": "f5809d27-7d0f-4602-aa7b-2f6bdbe41eec",
   "metadata": {},
   "source": [
    "This is somehow very useful, because with this you can create lists of datasets you want to download. Here another example to create a lsit of year strings"
   ]
  },
  {
   "cell_type": "code",
   "execution_count": 39,
   "id": "f8ab89b3-a32e-40c4-9daf-cfb5205944bb",
   "metadata": {
    "tags": []
   },
   "outputs": [
    {
     "name": "stdout",
     "output_type": "stream",
     "text": [
      "['2019', '2020', '2021', '2022']\n"
     ]
    }
   ],
   "source": [
    "string_list = list(map(str, range(2019, 2023)))\n",
    "print(string_list)"
   ]
  },
  {
   "cell_type": "markdown",
   "id": "37e9a888-8249-4c1f-a9fb-05ce5dda9b24",
   "metadata": {},
   "source": [
    "To access the elements in the list you can use the placement in the list as an\n",
    "idicator. This means numbering the items aligned with their placement in the list.\n",
    "But, you must remember that the list starts with 0. "
   ]
  },
  {
   "cell_type": "code",
   "execution_count": 40,
   "id": "fcb4ad2b-e904-4a28-a006-ad451915d2ab",
   "metadata": {
    "tags": []
   },
   "outputs": [
    {
     "data": {
      "text/plain": [
       "'2021'"
      ]
     },
     "execution_count": 40,
     "metadata": {},
     "output_type": "execute_result"
    }
   ],
   "source": [
    "data_range[2]"
   ]
  },
  {
   "cell_type": "markdown",
   "id": "27ac0cbc-6fcd-44b5-b8c0-b01b52697e11",
   "metadata": {},
   "source": [
    "If the list is longer and you need to count from the end you can also do that."
   ]
  },
  {
   "cell_type": "code",
   "execution_count": 41,
   "id": "784c35c0-fbe0-48ee-b4da-2426d8d74a82",
   "metadata": {
    "tags": []
   },
   "outputs": [
    {
     "data": {
      "text/plain": [
       "'2021'"
      ]
     },
     "execution_count": 41,
     "metadata": {},
     "output_type": "execute_result"
    }
   ],
   "source": [
    "data_range[-2]"
   ]
  },
  {
   "cell_type": "markdown",
   "id": "58ef9df1-1365-40cb-905b-eedc685d4cf6",
   "metadata": {},
   "source": [
    "Now, sometimes lists can get long and you want to keep track of how many\n",
    "elements you have in your list. To find this, use len which is the length function."
   ]
  },
  {
   "cell_type": "code",
   "execution_count": 42,
   "id": "c004e994-b2e6-48c0-b07a-53d8e3e56212",
   "metadata": {
    "tags": []
   },
   "outputs": [
    {
     "data": {
      "text/plain": [
       "4"
      ]
     },
     "execution_count": 42,
     "metadata": {},
     "output_type": "execute_result"
    }
   ],
   "source": [
    "len(data_range)"
   ]
  },
  {
   "cell_type": "markdown",
   "id": "fa83bdfa-1038-4fb2-b22d-c3d80e1bc452",
   "metadata": {},
   "source": [
    "Use `append()` to add a new object to the end of the list and `pop()` to remove objects\n",
    "from the end."
   ]
  },
  {
   "cell_type": "code",
   "execution_count": 43,
   "id": "fb791c8f-71ea-4096-ae8c-4be9342d55de",
   "metadata": {
    "tags": []
   },
   "outputs": [
    {
     "data": {
      "text/plain": [
       "['2019', '2020', '2021', '2022', '2023']"
      ]
     },
     "execution_count": 43,
     "metadata": {},
     "output_type": "execute_result"
    }
   ],
   "source": [
    "data_range.append('2023')\n",
    "data_range"
   ]
  },
  {
   "cell_type": "code",
   "execution_count": 44,
   "id": "02ae1295-7bf8-48d7-a1d4-71a0cd56d1c4",
   "metadata": {
    "tags": []
   },
   "outputs": [
    {
     "data": {
      "text/plain": [
       "['2019', '2020', '2021', '2022']"
      ]
     },
     "execution_count": 44,
     "metadata": {},
     "output_type": "execute_result"
    }
   ],
   "source": [
    "data_range.pop()\n",
    "data_range"
   ]
  },
  {
   "cell_type": "markdown",
   "id": "9df1e331-05ca-4782-8724-f130d21b533d",
   "metadata": {},
   "source": [
    "Check to see if a value exists using `in`"
   ]
  },
  {
   "cell_type": "code",
   "execution_count": 45,
   "id": "27592671-5994-4e62-baf9-49904472dbe6",
   "metadata": {
    "tags": []
   },
   "outputs": [
    {
     "data": {
      "text/plain": [
       "True"
      ]
     },
     "execution_count": 45,
     "metadata": {},
     "output_type": "execute_result"
    }
   ],
   "source": [
    "'2019' in data_range"
   ]
  },
  {
   "cell_type": "code",
   "execution_count": 46,
   "id": "09d0750a-b715-4026-8f89-045d1e4b921c",
   "metadata": {
    "tags": []
   },
   "outputs": [
    {
     "data": {
      "text/plain": [
       "False"
      ]
     },
     "execution_count": 46,
     "metadata": {},
     "output_type": "execute_result"
    }
   ],
   "source": [
    "'2023' in data_range"
   ]
  },
  {
   "cell_type": "markdown",
   "id": "ab8c845a-ee79-4580-8a7d-f14a835ac9dc",
   "metadata": {},
   "source": [
    "# Dictionaries\n",
    "A dictionary optimizes element lookups. It uses keys and values, instead of\n",
    "numbers as placeholders. Each key must have a value.\n",
    "This is for example very helpful when you create own datafiles and also when you load data.\n"
   ]
  },
  {
   "cell_type": "code",
   "execution_count": 47,
   "id": "5f74d7ab-4152-4c43-8539-9a0566a2455a",
   "metadata": {
    "tags": []
   },
   "outputs": [],
   "source": [
    "data_ranges = {\n",
    "    '2021': list(map(str, range(1,13))),\n",
    "    '2022': list(map(str, range(1, 13))),\n",
    "    'fruits': ['apple','banana','blueberry']\n",
    "}"
   ]
  },
  {
   "cell_type": "code",
   "execution_count": 48,
   "id": "e53d739b-9e21-4749-87bb-caaea8d4f218",
   "metadata": {
    "tags": []
   },
   "outputs": [
    {
     "data": {
      "text/plain": [
       "{'2021': ['1', '2', '3', '4', '5', '6', '7', '8', '9', '10', '11', '12'],\n",
       " '2022': ['1', '2', '3', '4', '5', '6', '7', '8', '9', '10', '11', '12'],\n",
       " 'fruits': ['apple', 'banana', 'blueberry']}"
      ]
     },
     "execution_count": 48,
     "metadata": {},
     "output_type": "execute_result"
    }
   ],
   "source": [
    "data_ranges"
   ]
  },
  {
   "cell_type": "code",
   "execution_count": 49,
   "id": "79d3975f-b17a-46b4-9a11-598cd4e0c9c8",
   "metadata": {
    "tags": []
   },
   "outputs": [
    {
     "data": {
      "text/plain": [
       "['1', '2', '3', '4', '5', '6', '7', '8', '9', '10', '11', '12']"
      ]
     },
     "execution_count": 49,
     "metadata": {},
     "output_type": "execute_result"
    }
   ],
   "source": [
    "data_ranges['2021']"
   ]
  },
  {
   "cell_type": "code",
   "execution_count": 50,
   "id": "d8910756-4977-43cd-a1c4-9ddf6fad64a6",
   "metadata": {
    "tags": []
   },
   "outputs": [
    {
     "data": {
      "text/plain": [
       "['1', '2', '3', '4', '5', '6', '7', '8', '9', '10', '11', '12']"
      ]
     },
     "execution_count": 50,
     "metadata": {},
     "output_type": "execute_result"
    }
   ],
   "source": [
    "data_ranges['2022']"
   ]
  },
  {
   "cell_type": "code",
   "execution_count": 51,
   "id": "981fc481-4d64-4f88-9fef-76bb3774cc1a",
   "metadata": {
    "tags": []
   },
   "outputs": [
    {
     "data": {
      "text/plain": [
       "['apple', 'banana', 'blueberry']"
      ]
     },
     "execution_count": 51,
     "metadata": {},
     "output_type": "execute_result"
    }
   ],
   "source": [
    "data_ranges['fruits']"
   ]
  },
  {
   "cell_type": "markdown",
   "id": "f9c4716b-1880-49df-9975-c63e844c4273",
   "metadata": {},
   "source": [
    "`data_ranges` includes strings, but this would also work with numbers:"
   ]
  },
  {
   "cell_type": "code",
   "execution_count": 52,
   "id": "cfaa641e-0328-4f7b-85b7-b56f988c7952",
   "metadata": {
    "tags": []
   },
   "outputs": [],
   "source": [
    "data_ranges = {\n",
    "    2021: list(range(1,13)),\n",
    "    2022: list( range(1, 13)),\n",
    "\n",
    "}"
   ]
  },
  {
   "cell_type": "code",
   "execution_count": 53,
   "id": "ad1f8b9a-8abc-4ed3-8677-bddeb1708ae1",
   "metadata": {
    "tags": []
   },
   "outputs": [
    {
     "data": {
      "text/plain": [
       "{2021: [1, 2, 3, 4, 5, 6, 7, 8, 9, 10, 11, 12],\n",
       " 2022: [1, 2, 3, 4, 5, 6, 7, 8, 9, 10, 11, 12]}"
      ]
     },
     "execution_count": 53,
     "metadata": {},
     "output_type": "execute_result"
    }
   ],
   "source": [
    "data_ranges"
   ]
  },
  {
   "cell_type": "markdown",
   "id": "720af880-de34-4708-a0d3-abfb3300a919",
   "metadata": {},
   "source": [
    "Output all the keys as a list with `keys()` and all the values with `values()` ."
   ]
  },
  {
   "cell_type": "code",
   "execution_count": 54,
   "id": "2e1803a3-e2ad-4f69-a330-586b86563f81",
   "metadata": {
    "tags": []
   },
   "outputs": [
    {
     "data": {
      "text/plain": [
       "dict_keys([2021, 2022])"
      ]
     },
     "execution_count": 54,
     "metadata": {},
     "output_type": "execute_result"
    }
   ],
   "source": [
    "data_ranges.keys()"
   ]
  },
  {
   "cell_type": "code",
   "execution_count": 55,
   "id": "e87bc4ad-48e7-4cb1-91b3-95a3c0f82d87",
   "metadata": {
    "tags": []
   },
   "outputs": [
    {
     "data": {
      "text/plain": [
       "dict_values([[1, 2, 3, 4, 5, 6, 7, 8, 9, 10, 11, 12], [1, 2, 3, 4, 5, 6, 7, 8, 9, 10, 11, 12]])"
      ]
     },
     "execution_count": 55,
     "metadata": {},
     "output_type": "execute_result"
    }
   ],
   "source": [
    "data_ranges.values()"
   ]
  },
  {
   "cell_type": "markdown",
   "id": "beb66326-6b3d-4392-8dc1-8c255ed342f5",
   "metadata": {},
   "source": [
    "# 3. Control Statements\n",
    "\n",
    "## IF Statements\n",
    "\n",
    "The IF statement is used to check if a condition is true.\n",
    "Essentially, if the condition is true, the Python interpreter runs a block of\n",
    "statements called the if-block. If the statement is false, the interpreter skips the if-\n",
    "block and processes another block of statements called the else-block. The else\n",
    "clause is optional.\n",
    "Let's look at two quick examples.\n"
   ]
  },
  {
   "cell_type": "code",
   "execution_count": 56,
   "id": "54ba3868-81e5-48f6-b3b8-431a4f6afe1e",
   "metadata": {
    "tags": []
   },
   "outputs": [],
   "source": [
    "a = 30"
   ]
  },
  {
   "cell_type": "code",
   "execution_count": 57,
   "id": "b80c51a0-42ca-49b1-b0fa-6686b2e94562",
   "metadata": {
    "tags": []
   },
   "outputs": [
    {
     "name": "stdout",
     "output_type": "stream",
     "text": [
      "a =  30\n"
     ]
    }
   ],
   "source": [
    "if a == 30:\n",
    "    print('a = ', a)\n",
    "else:\n",
    "    print('a is not ', a)"
   ]
  },
  {
   "cell_type": "code",
   "execution_count": 58,
   "id": "c985ecff-2cf4-4da9-a8cf-efdbd7eaa8eb",
   "metadata": {
    "tags": []
   },
   "outputs": [
    {
     "name": "stdout",
     "output_type": "stream",
     "text": [
      "a is not  29\n"
     ]
    }
   ],
   "source": [
    "a =29\n",
    "if a == 30:\n",
    "    print('a = ', a)\n",
    "else:\n",
    "    print('a is not ', a)"
   ]
  },
  {
   "cell_type": "markdown",
   "id": "7d505d6a-d1e7-449f-b2bb-9877e00fa706",
   "metadata": {},
   "source": [
    "You can also add `elif` (else if) clause to add another condition."
   ]
  },
  {
   "cell_type": "code",
   "execution_count": 59,
   "id": "24db3813-b811-470c-a065-23295a2dbf56",
   "metadata": {
    "tags": []
   },
   "outputs": [
    {
     "name": "stdout",
     "output_type": "stream",
     "text": [
      "a is less than  27\n"
     ]
    }
   ],
   "source": [
    "a = 27\n",
    "if a == 30:\n",
    "    print('a = ', a)\n",
    "elif a <30:\n",
    "    print('a is less than ',a)\n",
    "else:\n",
    "    print('a is greater than', a)"
   ]
  },
  {
   "cell_type": "markdown",
   "id": "a10e94ee-ebc9-43e0-a9b7-118ef12bf62a",
   "metadata": {},
   "source": [
    "## Loops\n",
    "\n",
    "There are 2 kinds of loops used in Python. The For loop and the While loop. For\n",
    "loops are traditionally used when you have a piece of code which you want to\n",
    "repeat n number of times. They are also commonly used to loop or iterate over\n",
    "lists.\n",
    "\n",
    "\n"
   ]
  },
  {
   "cell_type": "code",
   "execution_count": 60,
   "id": "b32371fd-982c-46d5-84b0-ad0dc5277f2d",
   "metadata": {
    "tags": []
   },
   "outputs": [
    {
     "data": {
      "text/plain": [
       "('red', 'yellow', 'green')"
      ]
     },
     "execution_count": 60,
     "metadata": {},
     "output_type": "execute_result"
    }
   ],
   "source": [
    "colors = ('red','yellow','green')\n",
    "colors"
   ]
  },
  {
   "cell_type": "code",
   "execution_count": 61,
   "id": "d45ecfa9-6b98-40ac-9c28-faf9a0b19c4f",
   "metadata": {
    "tags": []
   },
   "outputs": [
    {
     "name": "stdout",
     "output_type": "stream",
     "text": [
      " I love red\n",
      " I love yellow\n",
      " I love green\n"
     ]
    }
   ],
   "source": [
    "for favorite in colors:\n",
    "    print(' I love',favorite)"
   ]
  },
  {
   "cell_type": "markdown",
   "id": "dd8c44f2-651f-4410-8252-d96d2ab1524b",
   "metadata": {},
   "source": [
    "While loops, like the For Loop, are used for repeating sections of code - but unlike\n",
    "a for loop, the while loop will not run n times, but until a defined condition is met."
   ]
  },
  {
   "cell_type": "code",
   "execution_count": 62,
   "id": "21bcbbcc-557c-419e-bc0c-92a3d09c2045",
   "metadata": {
    "tags": []
   },
   "outputs": [
    {
     "data": {
      "text/plain": [
       "5"
      ]
     },
     "execution_count": 62,
     "metadata": {},
     "output_type": "execute_result"
    }
   ],
   "source": [
    "a = 5\n",
    "a"
   ]
  },
  {
   "cell_type": "code",
   "execution_count": 63,
   "id": "801b272a-a6bb-493a-abc7-2eb840952c44",
   "metadata": {
    "tags": []
   },
   "outputs": [
    {
     "name": "stdout",
     "output_type": "stream",
     "text": [
      "5\n",
      "6\n",
      "7\n",
      "8\n",
      "9\n",
      "10\n"
     ]
    }
   ],
   "source": [
    "while a <= 10:\n",
    "    print(a)\n",
    "    a +=1"
   ]
  },
  {
   "cell_type": "markdown",
   "id": "e6073ba1-efea-4940-86ad-7fd523e9b06b",
   "metadata": {},
   "source": [
    "# 4. Functions\n",
    "\n",
    "Functions are blocks of reusable code that perfrom a single task.\n",
    "You use def to define (or create) a new function then you call a function by\n",
    "adding parameters to the function name.\n"
   ]
  },
  {
   "cell_type": "code",
   "execution_count": 64,
   "id": "2b40456c-8f40-4390-8704-d73018fa3d5c",
   "metadata": {
    "tags": []
   },
   "outputs": [],
   "source": [
    "def divide(num1,num2):\n",
    "    return num1/num2"
   ]
  },
  {
   "cell_type": "code",
   "execution_count": 65,
   "id": "0ec5c566-0f47-48a1-8d9b-45f35cb6bb9d",
   "metadata": {
    "tags": []
   },
   "outputs": [
    {
     "data": {
      "text/plain": [
       "2.0"
      ]
     },
     "execution_count": 65,
     "metadata": {},
     "output_type": "execute_result"
    }
   ],
   "source": [
    "divide(10,5)"
   ]
  },
  {
   "cell_type": "markdown",
   "id": "2772346e-a883-4f61-8a25-aa0cc5eded04",
   "metadata": {},
   "source": [
    "You can also set default values for parameters."
   ]
  },
  {
   "cell_type": "code",
   "execution_count": 66,
   "id": "6dd83224-aa0d-4292-87da-f08537581e6c",
   "metadata": {
    "tags": []
   },
   "outputs": [],
   "source": [
    "def divide(num1,num2 = 5):\n",
    "    return num1/num2"
   ]
  },
  {
   "cell_type": "code",
   "execution_count": 67,
   "id": "01826d97-bb4d-472e-a64d-e3bdc4643ef2",
   "metadata": {
    "tags": []
   },
   "outputs": [
    {
     "data": {
      "text/plain": [
       "4.0"
      ]
     },
     "execution_count": 67,
     "metadata": {},
     "output_type": "execute_result"
    }
   ],
   "source": [
    "divide(20)"
   ]
  },
  {
   "cell_type": "markdown",
   "id": "c7ccbf7d-bfe3-43f8-b7ef-d715d3f5d940",
   "metadata": {},
   "source": [
    "You can set a default value, but when you call the function and provide a specific value, it will operate accordingly and yield the correct result.\n",
    "\n",
    "This refers to the concept of default arguments in functions. If you don't provide a value for a parameter with a default value when calling the function, it uses the default. But if you do provide a value, it uses the one you provided."
   ]
  },
  {
   "cell_type": "code",
   "execution_count": 68,
   "id": "fdb00f2b-1d1e-4fc6-9523-4787bbb5e09c",
   "metadata": {
    "tags": []
   },
   "outputs": [
    {
     "data": {
      "text/plain": [
       "5.0"
      ]
     },
     "execution_count": 68,
     "metadata": {},
     "output_type": "execute_result"
    }
   ],
   "source": [
    "divide(20,4)"
   ]
  },
  {
   "cell_type": "markdown",
   "id": "f5a34412-6711-4f80-8911-14d21ead4e61",
   "metadata": {},
   "source": [
    "# 5. Common statistical approaches using the `numpy` library\n",
    "\n",
    "NumPy (Numerical Python) is one of the foundational packages for numerical computations in Python. It provides support for arrays (including multidimensional arrays), as well as an assortment of mathematical functions to operate on these arrays. With numpy, scientific and mathematical computations are simpler and faster.  \n",
    "\n",
    "To utilize numpy, it's customary to import it with the alias `np`:\n"
   ]
  },
  {
   "cell_type": "code",
   "execution_count": 1,
   "id": "dd92fd42-9dc6-4b03-8296-8110456600a7",
   "metadata": {
    "tags": []
   },
   "outputs": [],
   "source": [
    "import numpy as np"
   ]
  },
  {
   "cell_type": "markdown",
   "id": "b053ca2b-7fc4-480a-8444-56d02b4569b8",
   "metadata": {},
   "source": [
    "Now, let's dive into some basic statistical approaches using numpy:\n",
    "1. Minimum (min): Finds the smallest value in a dataset."
   ]
  },
  {
   "cell_type": "code",
   "execution_count": 2,
   "id": "af937f9c-857e-405b-8c3b-0fda0b8d9d81",
   "metadata": {
    "tags": []
   },
   "outputs": [
    {
     "name": "stdout",
     "output_type": "stream",
     "text": [
      "Minimum Value: 2\n"
     ]
    }
   ],
   "source": [
    "data = np.array([3, 5, 2, 8, 7])\n",
    "min_value = np.min(data)\n",
    "print(f\"Minimum Value: {min_value}\")"
   ]
  },
  {
   "cell_type": "markdown",
   "id": "6c856b00-25f9-4cd0-8fa4-edd901f65718",
   "metadata": {},
   "source": [
    "2. Maximum (max): Finds the largest value in a dataset."
   ]
  },
  {
   "cell_type": "code",
   "execution_count": 3,
   "id": "313dc7ff-d863-4c20-9d47-de399f243710",
   "metadata": {
    "tags": []
   },
   "outputs": [
    {
     "name": "stdout",
     "output_type": "stream",
     "text": [
      "Maximum Value: 8\n"
     ]
    }
   ],
   "source": [
    "max_value = np.max(data)\n",
    "print(f\"Maximum Value: {max_value}\")\n"
   ]
  },
  {
   "cell_type": "markdown",
   "id": "9ae830f9-12ff-4093-82b6-50f84e17efb5",
   "metadata": {},
   "source": [
    "3. Mean (mean): Computes the average of the dataset."
   ]
  },
  {
   "cell_type": "code",
   "execution_count": 4,
   "id": "a47fb85e-96ae-41ed-88cd-16b94e47a5ce",
   "metadata": {
    "tags": []
   },
   "outputs": [
    {
     "name": "stdout",
     "output_type": "stream",
     "text": [
      "Mean Value: 5.0\n"
     ]
    }
   ],
   "source": [
    "mean_value = np.mean(data)\n",
    "print(f\"Mean Value: {mean_value}\")"
   ]
  },
  {
   "cell_type": "markdown",
   "id": "1ec48a97-a680-4a88-9685-8f3bb118450b",
   "metadata": {},
   "source": [
    "4. Standard Deviation (std): Measures the amount of variation or dispersion in a dataset."
   ]
  },
  {
   "cell_type": "code",
   "execution_count": 5,
   "id": "e5d042b5-f112-4b3e-9c9e-a89cc92d5110",
   "metadata": {
    "tags": []
   },
   "outputs": [
    {
     "name": "stdout",
     "output_type": "stream",
     "text": [
      "Standard Deviation: 2.280350850198276\n"
     ]
    }
   ],
   "source": [
    "std_value = np.std(data)\n",
    "print(f\"Standard Deviation: {std_value}\")"
   ]
  },
  {
   "cell_type": "markdown",
   "id": "d2932d6b-31cb-410a-9eaa-eea5e2432911",
   "metadata": {},
   "source": [
    "And now, data including `NaN`\n",
    "\n",
    "1. Minimum (nanmin): Finds the smallest value in a dataset, ignoring NaN."
   ]
  },
  {
   "cell_type": "code",
   "execution_count": 7,
   "id": "04c02811-b0f8-4380-8c89-a215f996df00",
   "metadata": {
    "tags": []
   },
   "outputs": [
    {
     "name": "stdout",
     "output_type": "stream",
     "text": [
      "Minimum Value (ignoring NaN): 2.0\n"
     ]
    }
   ],
   "source": [
    "data_with_nan = np.array([3, 5, 2, np.nan, 8, 7])\n",
    "min_value = np.nanmin(data_with_nan)\n",
    "print(f\"Minimum Value (ignoring NaN): {min_value}\")\n"
   ]
  },
  {
   "cell_type": "markdown",
   "id": "47306135-3bb0-4bca-9205-747d0acb6d12",
   "metadata": {},
   "source": [
    "2. Maximum (nanmax): Finds the largest value in a dataset, ignoring NaN."
   ]
  },
  {
   "cell_type": "code",
   "execution_count": 8,
   "id": "34f9b356-a26f-4aa1-8af0-a7bee43a0c22",
   "metadata": {
    "tags": []
   },
   "outputs": [
    {
     "name": "stdout",
     "output_type": "stream",
     "text": [
      "Maximum Value (ignoring NaN): 8.0\n"
     ]
    }
   ],
   "source": [
    "max_value = np.nanmax(data_with_nan)\n",
    "print(f\"Maximum Value (ignoring NaN): {max_value}\")\n"
   ]
  },
  {
   "cell_type": "markdown",
   "id": "c1779fc1-6377-45ad-88b7-09aa335fbb2c",
   "metadata": {},
   "source": [
    "3. Mean (nanmean): Computes the average of the dataset, ignoring NaN."
   ]
  },
  {
   "cell_type": "code",
   "execution_count": 9,
   "id": "552cf2ee-c274-4638-8152-938250c54891",
   "metadata": {
    "tags": []
   },
   "outputs": [
    {
     "name": "stdout",
     "output_type": "stream",
     "text": [
      "Mean Value (ignoring NaN): 5.0\n"
     ]
    }
   ],
   "source": [
    "mean_value = np.nanmean(data_with_nan)\n",
    "print(f\"Mean Value (ignoring NaN): {mean_value}\")\n"
   ]
  },
  {
   "cell_type": "markdown",
   "id": "62c2fb4a-a8fa-420b-b41b-f07406a931e5",
   "metadata": {},
   "source": [
    "4. Standard Deviation (nanstd): Measures the amount of variation or dispersion in a dataset, ignoring NaN."
   ]
  },
  {
   "cell_type": "code",
   "execution_count": 10,
   "id": "797c0c0b-c585-4c6a-9db0-9093f0b68ca2",
   "metadata": {
    "tags": []
   },
   "outputs": [
    {
     "name": "stdout",
     "output_type": "stream",
     "text": [
      "Standard Deviation (ignoring NaN): 2.280350850198276\n"
     ]
    }
   ],
   "source": [
    "std_value = np.nanstd(data_with_nan)\n",
    "print(f\"Standard Deviation (ignoring NaN): {std_value}\")\n"
   ]
  },
  {
   "cell_type": "markdown",
   "id": "5cedfddc-0dcc-4217-9f17-02c58658db1a",
   "metadata": {},
   "source": [
    "These numpy functions that start with nan (like nanmin, nanmean, etc.) are designed to handle arrays that contain NaN values by ignoring them during computation. This can be very handy when dealing with incomplete datasets."
   ]
  },
  {
   "cell_type": "markdown",
   "id": "dfa33bc8-bc83-4d57-af30-6d1d4b86f3cb",
   "metadata": {},
   "source": [
    "## 6. Time Series Analysis with `xarray`\n",
    "\n",
    "`xarray` is a popular choice for handling multi-dimensional labeled arrays (akin to pandas DataFrames but for N-dimensional arrays), especially in the climate and geosciences domain.\n",
    "\n",
    "Creating a time series with `xarray`\n",
    "\n"
   ]
  },
  {
   "cell_type": "code",
   "execution_count": 29,
   "id": "750376c6-6cce-4313-afe4-d695f8b23358",
   "metadata": {
    "tags": []
   },
   "outputs": [
    {
     "data": {
      "image/png": "[encoded data removed]",
      "text/plain": [
       "<Figure size 640x480 with 1 Axes>"
      ]
     },
     "metadata": {},
     "output_type": "display_data"
    }
   ],
   "source": [
    "import xarray as xr\n",
    "import numpy as np\n",
    "import pandas as pd\n",
    "\n",
    "# Creating a date range and a simple dataset\n",
    "# Generate time range for two years\n",
    "date_rng = pd.date_range(start='1/1/2021', end='31/12/2022', freq='D')\n",
    "# Create a sinusoidal signal for seasonal effect\n",
    "annual_cycle = np.sin(2 * np.pi * np.arange(len(date_rng)) / 365.25)\n",
    "\n",
    "# Add some random noise\n",
    "noise = np.random.normal(0, 0.5, len(date_rng))\n",
    "\n",
    "# Combine seasonal signal and noise\n",
    "data = annual_cycle + noise\n",
    "\n",
    "# Convert to xarray DataArray\n",
    "data = xr.DataArray(data, coords=[date_rng], dims=['time'], name='value')\n",
    "\n",
    "# Plot\n",
    "data.plot()\n",
    "plt.show()\n"
   ]
  },
  {
   "cell_type": "markdown",
   "id": "821efeed-664a-4b6c-abc2-ecea48eef3fb",
   "metadata": {},
   "source": [
    "### Differencing a Time Series to Remove Trends:  \n",
    "Task: Use first-order differencing to remove the trend from the data."
   ]
  },
  {
   "cell_type": "code",
   "execution_count": 30,
   "id": "f9048e10-a902-4341-9a80-a495f90a5a0f",
   "metadata": {
    "tags": []
   },
   "outputs": [],
   "source": [
    "# Solution:\n",
    "diff_data = data.diff(dim='time')\n"
   ]
  },
  {
   "cell_type": "markdown",
   "id": "b7c495de-5f2f-4af6-855b-d71c67326b52",
   "metadata": {},
   "source": [
    "Differencing a time series, using methods like `diff()`, is a common technique to detrend data by calculating the difference between consecutive values, especially useful for linear trends. On the other hand, seasonal decomposition with statsmodels is a model-based approach that aims to break down the time series into trend, seasonality, and residual components, offering a more comprehensive analysis, especially when there are clear seasonal patterns.\n",
    "\n",
    "### Seasonal Decomposition:  \n",
    "Task: Decompose the data into trend, seasonal, and residual components."
   ]
  },
  {
   "cell_type": "code",
   "execution_count": 31,
   "id": "d1a7c7f4-8e5f-46c8-8743-cd075224562c",
   "metadata": {
    "tags": []
   },
   "outputs": [],
   "source": [
    "from statsmodels.tsa.seasonal import seasonal_decompose\n",
    "\n",
    "# Solution for Seasonal Decomposition:\n",
    "data_series = data.dropna(dim='time').to_series()  # dropping NaN values, if any\n",
    "result = seasonal_decompose(data_series, model='additive', period=365)\n",
    "trend = xr.DataArray(result.trend, coords=[data_series.index], dims=['time'])\n",
    "seasonal = xr.DataArray(result.seasonal, coords=[data_series.index], dims=['time'])\n",
    "residual = xr.DataArray(result.resid, coords=[data_series.index], dims=['time'])\n"
   ]
  },
  {
   "cell_type": "markdown",
   "id": "748af923-e0f9-4f3b-beba-3c44dfb5aafc",
   "metadata": {
    "tags": []
   },
   "source": [
    "### Detrending:  \n",
    "Task: Remove the trend from the original data series to detrend it."
   ]
  },
  {
   "cell_type": "code",
   "execution_count": 32,
   "id": "3772524a-3fc1-40cf-9ad1-bc9075fedee2",
   "metadata": {
    "tags": []
   },
   "outputs": [],
   "source": [
    "# Solution:\n",
    "detrended = data - trend\n"
   ]
  },
  {
   "cell_type": "markdown",
   "id": "23dc6142-cf33-42d4-b93a-77c979c4d53a",
   "metadata": {},
   "source": [
    "### Visualizing Time Series Components: \n",
    "Task: Create a subplot of 4 graphs showing the original time series, trend, seasonal, and residual components."
   ]
  },
  {
   "cell_type": "code",
   "execution_count": 33,
   "id": "74ce81f5-65ae-4b4e-be7b-1c95c5274c68",
   "metadata": {
    "tags": []
   },
   "outputs": [
    {
     "data": {
      "image/png": "[encoded data removed]",
      "text/plain": [
       "<Figure size 1000x600 with 4 Axes>"
      ]
     },
     "metadata": {},
     "output_type": "display_data"
    }
   ],
   "source": [
    "import matplotlib.pyplot as plt\n",
    "\n",
    "fig, axes = plt.subplots(4, 1, figsize=(10,6))\n",
    "\n",
    "data.plot(ax=axes[0])\n",
    "axes[0].set_title('Original Time Series')\n",
    "\n",
    "trend.plot(ax=axes[1])\n",
    "axes[1].set_title('Trend Component')\n",
    "\n",
    "seasonal.plot(ax=axes[2])\n",
    "axes[2].set_title('Seasonal Component')\n",
    "\n",
    "residual.plot(ax=axes[3])\n",
    "axes[3].set_title('Residual Component')\n",
    "\n",
    "plt.tight_layout()\n",
    "plt.show()\n"
   ]
  },
  {
   "cell_type": "markdown",
   "id": "0f67e51f-6748-4f3d-99e4-35d6fa4b7fa4",
   "metadata": {},
   "source": [
    "### Accessing and Indexing Time Series\n",
    "\n",
    "You can directly use labels to index into time series data with xarray:"
   ]
  },
  {
   "cell_type": "code",
   "execution_count": 34,
   "id": "22179279-f212-4b19-a67a-e63169c01855",
   "metadata": {
    "tags": []
   },
   "outputs": [
    {
     "name": "stdout",
     "output_type": "stream",
     "text": [
      "<xarray.DataArray 'value' (time: 31)>\n",
      "array([-0.26001068, -0.76677569, -0.58474513, -0.65232125, -0.44883335,\n",
      "        0.16088022, -0.21672772, -0.49871709,  0.59290127,  0.29249393,\n",
      "       -0.02251203,  0.22905493,  0.88223024,  0.42575789,  0.18649319,\n",
      "        0.06888579,  0.68186323, -0.04659534,  0.88693339,  0.87287385,\n",
      "       -0.13848931,  0.01473724, -1.24394844,  0.09088493, -0.07050734,\n",
      "        0.63559848,  1.33615127,  0.13219012,  1.12507607,  0.21967048,\n",
      "       -0.43066341])\n",
      "Coordinates:\n",
      "  * time     (time) datetime64[ns] 2021-01-01 2021-01-02 ... 2021-01-31\n"
     ]
    }
   ],
   "source": [
    "# Select data for January 2020\n",
    "jan_2021 = data.sel(time=\"2021-01\")\n",
    "print(jan_2021)"
   ]
  },
  {
   "cell_type": "markdown",
   "id": "0757ed23-e662-4698-921e-0212b30b51d0",
   "metadata": {},
   "source": [
    "### Resampling\n",
    "\n",
    "Resampling is used to change the frequency of your time series."
   ]
  },
  {
   "cell_type": "code",
   "execution_count": 35,
   "id": "f28e5110-ad8c-4021-8668-cb72340cacf8",
   "metadata": {
    "tags": []
   },
   "outputs": [],
   "source": [
    "# Resample to monthly means\n",
    "monthly_mean = data.resample(time='M').mean()\n",
    "\n",
    "# Resample to monthly sums\n",
    "monthly_sum = data.resample(time='M').sum()\n"
   ]
  },
  {
   "cell_type": "code",
   "execution_count": 36,
   "id": "e6984381-b199-43fb-8cfa-b2d704210923",
   "metadata": {
    "tags": []
   },
   "outputs": [
    {
     "data": {
      "text/html": [
       "<div><svg style=\"position: absolute; width: 0; height: 0; overflow: hidden\">\n",
       "<defs>\n",
       "<symbol id=\"icon-database\" viewBox=\"0 0 32 32\">\n",
       "<path d=\"M16 0c-8.837 0-16 2.239-16 5v4c0 2.761 7.163 5 16 5s16-2.239 16-5v-4c0-2.761-7.163-5-16-5z\"></path>\n",
       "<path d=\"M16 17c-8.837 0-16-2.239-16-5v6c0 2.761 7.163 5 16 5s16-2.239 16-5v-6c0 2.761-7.163 5-16 5z\"></path>\n",
       "<path d=\"M16 26c-8.837 0-16-2.239-16-5v6c0 2.761 7.163 5 16 5s16-2.239 16-5v-6c0 2.761-7.163 5-16 5z\"></path>\n",
       "</symbol>\n",
       "<symbol id=\"icon-file-text2\" viewBox=\"0 0 32 32\">\n",
       "<path d=\"M28.681 7.159c-0.694-0.947-1.662-2.053-2.724-3.116s-2.169-2.030-3.116-2.724c-1.612-1.182-2.393-1.319-2.841-1.319h-15.5c-1.378 0-2.5 1.121-2.5 2.5v27c0 1.378 1.122 2.5 2.5 2.5h23c1.378 0 2.5-1.122 2.5-2.5v-19.5c0-0.448-0.137-1.23-1.319-2.841zM24.543 5.457c0.959 0.959 1.712 1.825 2.268 2.543h-4.811v-4.811c0.718 0.556 1.584 1.309 2.543 2.268zM28 29.5c0 0.271-0.229 0.5-0.5 0.5h-23c-0.271 0-0.5-0.229-0.5-0.5v-27c0-0.271 0.229-0.5 0.5-0.5 0 0 15.499-0 15.5 0v7c0 0.552 0.448 1 1 1h7v19.5z\"></path>\n",
       "<path d=\"M23 26h-14c-0.552 0-1-0.448-1-1s0.448-1 1-1h14c0.552 0 1 0.448 1 1s-0.448 1-1 1z\"></path>\n",
       "<path d=\"M23 22h-14c-0.552 0-1-0.448-1-1s0.448-1 1-1h14c0.552 0 1 0.448 1 1s-0.448 1-1 1z\"></path>\n",
       "<path d=\"M23 18h-14c-0.552 0-1-0.448-1-1s0.448-1 1-1h14c0.552 0 1 0.448 1 1s-0.448 1-1 1z\"></path>\n",
       "</symbol>\n",
       "</defs>\n",
       "</svg>\n",
       "<style>/* CSS stylesheet for displaying xarray objects in jupyterlab.\n",
       " *\n",
       " */\n",
       "\n",
       ":root {\n",
       "  --xr-font-color0: var(--jp-content-font-color0, rgba(0, 0, 0, 1));\n",
       "  --xr-font-color2: var(--jp-content-font-color2, rgba(0, 0, 0, 0.54));\n",
       "  --xr-font-color3: var(--jp-content-font-color3, rgba(0, 0, 0, 0.38));\n",
       "  --xr-border-color: var(--jp-border-color2, #e0e0e0);\n",
       "  --xr-disabled-color: var(--jp-layout-color3, #bdbdbd);\n",
       "  --xr-background-color: var(--jp-layout-color0, white);\n",
       "  --xr-background-color-row-even: var(--jp-layout-color1, white);\n",
       "  --xr-background-color-row-odd: var(--jp-layout-color2, #eeeeee);\n",
       "}\n",
       "\n",
       "html[theme=dark],\n",
       "body[data-theme=dark],\n",
       "body.vscode-dark {\n",
       "  --xr-font-color0: rgba(255, 255, 255, 1);\n",
       "  --xr-font-color2: rgba(255, 255, 255, 0.54);\n",
       "  --xr-font-color3: rgba(255, 255, 255, 0.38);\n",
       "  --xr-border-color: #1F1F1F;\n",
       "  --xr-disabled-color: #515151;\n",
       "  --xr-background-color: #111111;\n",
       "  --xr-background-color-row-even: #111111;\n",
       "  --xr-background-color-row-odd: #313131;\n",
       "}\n",
       "\n",
       ".xr-wrap {\n",
       "  display: block !important;\n",
       "  min-width: 300px;\n",
       "  max-width: 700px;\n",
       "}\n",
       "\n",
       ".xr-text-repr-fallback {\n",
       "  /* fallback to plain text repr when CSS is not injected (untrusted notebook) */\n",
       "  display: none;\n",
       "}\n",
       "\n",
       ".xr-header {\n",
       "  padding-top: 6px;\n",
       "  padding-bottom: 6px;\n",
       "  margin-bottom: 4px;\n",
       "  border-bottom: solid 1px var(--xr-border-color);\n",
       "}\n",
       "\n",
       ".xr-header > div,\n",
       ".xr-header > ul {\n",
       "  display: inline;\n",
       "  margin-top: 0;\n",
       "  margin-bottom: 0;\n",
       "}\n",
       "\n",
       ".xr-obj-type,\n",
       ".xr-array-name {\n",
       "  margin-left: 2px;\n",
       "  margin-right: 10px;\n",
       "}\n",
       "\n",
       ".xr-obj-type {\n",
       "  color: var(--xr-font-color2);\n",
       "}\n",
       "\n",
       ".xr-sections {\n",
       "  padding-left: 0 !important;\n",
       "  display: grid;\n",
       "  grid-template-columns: 150px auto auto 1fr 20px 20px;\n",
       "}\n",
       "\n",
       ".xr-section-item {\n",
       "  display: contents;\n",
       "}\n",
       "\n",
       ".xr-section-item input {\n",
       "  display: none;\n",
       "}\n",
       "\n",
       ".xr-section-item input + label {\n",
       "  color: var(--xr-disabled-color);\n",
       "}\n",
       "\n",
       ".xr-section-item input:enabled + label {\n",
       "  cursor: pointer;\n",
       "  color: var(--xr-font-color2);\n",
       "}\n",
       "\n",
       ".xr-section-item input:enabled + label:hover {\n",
       "  color: var(--xr-font-color0);\n",
       "}\n",
       "\n",
       ".xr-section-summary {\n",
       "  grid-column: 1;\n",
       "  color: var(--xr-font-color2);\n",
       "  font-weight: 500;\n",
       "}\n",
       "\n",
       ".xr-section-summary > span {\n",
       "  display: inline-block;\n",
       "  padding-left: 0.5em;\n",
       "}\n",
       "\n",
       ".xr-section-summary-in:disabled + label {\n",
       "  color: var(--xr-font-color2);\n",
       "}\n",
       "\n",
       ".xr-section-summary-in + label:before {\n",
       "  display: inline-block;\n",
       "  content: '►';\n",
       "  font-size: 11px;\n",
       "  width: 15px;\n",
       "  text-align: center;\n",
       "}\n",
       "\n",
       ".xr-section-summary-in:disabled + label:before {\n",
       "  color: var(--xr-disabled-color);\n",
       "}\n",
       "\n",
       ".xr-section-summary-in:checked + label:before {\n",
       "  content: '▼';\n",
       "}\n",
       "\n",
       ".xr-section-summary-in:checked + label > span {\n",
       "  display: none;\n",
       "}\n",
       "\n",
       ".xr-section-summary,\n",
       ".xr-section-inline-details {\n",
       "  padding-top: 4px;\n",
       "  padding-bottom: 4px;\n",
       "}\n",
       "\n",
       ".xr-section-inline-details {\n",
       "  grid-column: 2 / -1;\n",
       "}\n",
       "\n",
       ".xr-section-details {\n",
       "  display: none;\n",
       "  grid-column: 1 / -1;\n",
       "  margin-bottom: 5px;\n",
       "}\n",
       "\n",
       ".xr-section-summary-in:checked ~ .xr-section-details {\n",
       "  display: contents;\n",
       "}\n",
       "\n",
       ".xr-array-wrap {\n",
       "  grid-column: 1 / -1;\n",
       "  display: grid;\n",
       "  grid-template-columns: 20px auto;\n",
       "}\n",
       "\n",
       ".xr-array-wrap > label {\n",
       "  grid-column: 1;\n",
       "  vertical-align: top;\n",
       "}\n",
       "\n",
       ".xr-preview {\n",
       "  color: var(--xr-font-color3);\n",
       "}\n",
       "\n",
       ".xr-array-preview,\n",
       ".xr-array-data {\n",
       "  padding: 0 5px !important;\n",
       "  grid-column: 2;\n",
       "}\n",
       "\n",
       ".xr-array-data,\n",
       ".xr-array-in:checked ~ .xr-array-preview {\n",
       "  display: none;\n",
       "}\n",
       "\n",
       ".xr-array-in:checked ~ .xr-array-data,\n",
       ".xr-array-preview {\n",
       "  display: inline-block;\n",
       "}\n",
       "\n",
       ".xr-dim-list {\n",
       "  display: inline-block !important;\n",
       "  list-style: none;\n",
       "  padding: 0 !important;\n",
       "  margin: 0;\n",
       "}\n",
       "\n",
       ".xr-dim-list li {\n",
       "  display: inline-block;\n",
       "  padding: 0;\n",
       "  margin: 0;\n",
       "}\n",
       "\n",
       ".xr-dim-list:before {\n",
       "  content: '(';\n",
       "}\n",
       "\n",
       ".xr-dim-list:after {\n",
       "  content: ')';\n",
       "}\n",
       "\n",
       ".xr-dim-list li:not(:last-child):after {\n",
       "  content: ',';\n",
       "  padding-right: 5px;\n",
       "}\n",
       "\n",
       ".xr-has-index {\n",
       "  font-weight: bold;\n",
       "}\n",
       "\n",
       ".xr-var-list,\n",
       ".xr-var-item {\n",
       "  display: contents;\n",
       "}\n",
       "\n",
       ".xr-var-item > div,\n",
       ".xr-var-item label,\n",
       ".xr-var-item > .xr-var-name span {\n",
       "  background-color: var(--xr-background-color-row-even);\n",
       "  margin-bottom: 0;\n",
       "}\n",
       "\n",
       ".xr-var-item > .xr-var-name:hover span {\n",
       "  padding-right: 5px;\n",
       "}\n",
       "\n",
       ".xr-var-list > li:nth-child(odd) > div,\n",
       ".xr-var-list > li:nth-child(odd) > label,\n",
       ".xr-var-list > li:nth-child(odd) > .xr-var-name span {\n",
       "  background-color: var(--xr-background-color-row-odd);\n",
       "}\n",
       "\n",
       ".xr-var-name {\n",
       "  grid-column: 1;\n",
       "}\n",
       "\n",
       ".xr-var-dims {\n",
       "  grid-column: 2;\n",
       "}\n",
       "\n",
       ".xr-var-dtype {\n",
       "  grid-column: 3;\n",
       "  text-align: right;\n",
       "  color: var(--xr-font-color2);\n",
       "}\n",
       "\n",
       ".xr-var-preview {\n",
       "  grid-column: 4;\n",
       "}\n",
       "\n",
       ".xr-index-preview {\n",
       "  grid-column: 2 / 5;\n",
       "  color: var(--xr-font-color2);\n",
       "}\n",
       "\n",
       ".xr-var-name,\n",
       ".xr-var-dims,\n",
       ".xr-var-dtype,\n",
       ".xr-preview,\n",
       ".xr-attrs dt {\n",
       "  white-space: nowrap;\n",
       "  overflow: hidden;\n",
       "  text-overflow: ellipsis;\n",
       "  padding-right: 10px;\n",
       "}\n",
       "\n",
       ".xr-var-name:hover,\n",
       ".xr-var-dims:hover,\n",
       ".xr-var-dtype:hover,\n",
       ".xr-attrs dt:hover {\n",
       "  overflow: visible;\n",
       "  width: auto;\n",
       "  z-index: 1;\n",
       "}\n",
       "\n",
       ".xr-var-attrs,\n",
       ".xr-var-data,\n",
       ".xr-index-data {\n",
       "  display: none;\n",
       "  background-color: var(--xr-background-color) !important;\n",
       "  padding-bottom: 5px !important;\n",
       "}\n",
       "\n",
       ".xr-var-attrs-in:checked ~ .xr-var-attrs,\n",
       ".xr-var-data-in:checked ~ .xr-var-data,\n",
       ".xr-index-data-in:checked ~ .xr-index-data {\n",
       "  display: block;\n",
       "}\n",
       "\n",
       ".xr-var-data > table {\n",
       "  float: right;\n",
       "}\n",
       "\n",
       ".xr-var-name span,\n",
       ".xr-var-data,\n",
       ".xr-index-name div,\n",
       ".xr-index-data,\n",
       ".xr-attrs {\n",
       "  padding-left: 25px !important;\n",
       "}\n",
       "\n",
       ".xr-attrs,\n",
       ".xr-var-attrs,\n",
       ".xr-var-data,\n",
       ".xr-index-data {\n",
       "  grid-column: 1 / -1;\n",
       "}\n",
       "\n",
       "dl.xr-attrs {\n",
       "  padding: 0;\n",
       "  margin: 0;\n",
       "  display: grid;\n",
       "  grid-template-columns: 125px auto;\n",
       "}\n",
       "\n",
       ".xr-attrs dt,\n",
       ".xr-attrs dd {\n",
       "  padding: 0;\n",
       "  margin: 0;\n",
       "  float: left;\n",
       "  padding-right: 10px;\n",
       "  width: auto;\n",
       "}\n",
       "\n",
       ".xr-attrs dt {\n",
       "  font-weight: normal;\n",
       "  grid-column: 1;\n",
       "}\n",
       "\n",
       ".xr-attrs dt:hover span {\n",
       "  display: inline-block;\n",
       "  background: var(--xr-background-color);\n",
       "  padding-right: 10px;\n",
       "}\n",
       "\n",
       ".xr-attrs dd {\n",
       "  grid-column: 2;\n",
       "  white-space: pre-wrap;\n",
       "  word-break: break-all;\n",
       "}\n",
       "\n",
       ".xr-icon-database,\n",
       ".xr-icon-file-text2,\n",
       ".xr-no-icon {\n",
       "  display: inline-block;\n",
       "  vertical-align: middle;\n",
       "  width: 1em;\n",
       "  height: 1.5em !important;\n",
       "  stroke-width: 0;\n",
       "  stroke: currentColor;\n",
       "  fill: currentColor;\n",
       "}\n",
       "</style><pre class='xr-text-repr-fallback'>&lt;xarray.DataArray &#x27;value&#x27; (time: 24)&gt;\n",
       "array([  3.45382974,  17.90833948,  31.47301885,  28.1486141 ,\n",
       "        18.85882679,  12.07795726,  -7.25161255, -21.34267399,\n",
       "       -27.43523241, -29.64755841, -21.80187816,  -6.71803693,\n",
       "         4.46887516,  13.98665331,  32.26006019,  30.48937887,\n",
       "        24.57933703,   6.42457921,  -6.02996446, -17.9042123 ,\n",
       "       -26.82100577, -28.65159479, -23.12826368,  -7.70246372])\n",
       "Coordinates:\n",
       "  * time     (time) datetime64[ns] 2021-01-31 2021-02-28 ... 2022-12-31</pre><div class='xr-wrap' style='display:none'><div class='xr-header'><div class='xr-obj-type'>xarray.DataArray</div><div class='xr-array-name'>'value'</div><ul class='xr-dim-list'><li><span class='xr-has-index'>time</span>: 24</li></ul></div><ul class='xr-sections'><li class='xr-section-item'><div class='xr-array-wrap'><input id='section-7e83cf59-4143-4797-8f61-10ef2d7f0ffd' class='xr-array-in' type='checkbox' checked><label for='section-7e83cf59-4143-4797-8f61-10ef2d7f0ffd' title='Show/hide data repr'><svg class='icon xr-icon-database'><use xlink:href='#icon-database'></use></svg></label><div class='xr-array-preview xr-preview'><span>3.454 17.91 31.47 28.15 18.86 ... -17.9 -26.82 -28.65 -23.13 -7.702</span></div><div class='xr-array-data'><pre>array([  3.45382974,  17.90833948,  31.47301885,  28.1486141 ,\n",
       "        18.85882679,  12.07795726,  -7.25161255, -21.34267399,\n",
       "       -27.43523241, -29.64755841, -21.80187816,  -6.71803693,\n",
       "         4.46887516,  13.98665331,  32.26006019,  30.48937887,\n",
       "        24.57933703,   6.42457921,  -6.02996446, -17.9042123 ,\n",
       "       -26.82100577, -28.65159479, -23.12826368,  -7.70246372])</pre></div></div></li><li class='xr-section-item'><input id='section-55217b0c-e0ea-40a6-9da9-2bf3be36c24b' class='xr-section-summary-in' type='checkbox'  checked><label for='section-55217b0c-e0ea-40a6-9da9-2bf3be36c24b' class='xr-section-summary' >Coordinates: <span>(1)</span></label><div class='xr-section-inline-details'></div><div class='xr-section-details'><ul class='xr-var-list'><li class='xr-var-item'><div class='xr-var-name'><span class='xr-has-index'>time</span></div><div class='xr-var-dims'>(time)</div><div class='xr-var-dtype'>datetime64[ns]</div><div class='xr-var-preview xr-preview'>2021-01-31 ... 2022-12-31</div><input id='attrs-a52d741a-cda7-45e3-90e7-ecbcde9d97e5' class='xr-var-attrs-in' type='checkbox' disabled><label for='attrs-a52d741a-cda7-45e3-90e7-ecbcde9d97e5' title='Show/Hide attributes'><svg class='icon xr-icon-file-text2'><use xlink:href='#icon-file-text2'></use></svg></label><input id='data-dc91f7c3-63a5-41a7-b4e8-2900200e5b91' class='xr-var-data-in' type='checkbox'><label for='data-dc91f7c3-63a5-41a7-b4e8-2900200e5b91' title='Show/Hide data repr'><svg class='icon xr-icon-database'><use xlink:href='#icon-database'></use></svg></label><div class='xr-var-attrs'><dl class='xr-attrs'></dl></div><div class='xr-var-data'><pre>array([&#x27;2021-01-31T00:00:00.000000000&#x27;, &#x27;2021-02-28T00:00:00.000000000&#x27;,\n",
       "       &#x27;2021-03-31T00:00:00.000000000&#x27;, &#x27;2021-04-30T00:00:00.000000000&#x27;,\n",
       "       &#x27;2021-05-31T00:00:00.000000000&#x27;, &#x27;2021-06-30T00:00:00.000000000&#x27;,\n",
       "       &#x27;2021-07-31T00:00:00.000000000&#x27;, &#x27;2021-08-31T00:00:00.000000000&#x27;,\n",
       "       &#x27;2021-09-30T00:00:00.000000000&#x27;, &#x27;2021-10-31T00:00:00.000000000&#x27;,\n",
       "       &#x27;2021-11-30T00:00:00.000000000&#x27;, &#x27;2021-12-31T00:00:00.000000000&#x27;,\n",
       "       &#x27;2022-01-31T00:00:00.000000000&#x27;, &#x27;2022-02-28T00:00:00.000000000&#x27;,\n",
       "       &#x27;2022-03-31T00:00:00.000000000&#x27;, &#x27;2022-04-30T00:00:00.000000000&#x27;,\n",
       "       &#x27;2022-05-31T00:00:00.000000000&#x27;, &#x27;2022-06-30T00:00:00.000000000&#x27;,\n",
       "       &#x27;2022-07-31T00:00:00.000000000&#x27;, &#x27;2022-08-31T00:00:00.000000000&#x27;,\n",
       "       &#x27;2022-09-30T00:00:00.000000000&#x27;, &#x27;2022-10-31T00:00:00.000000000&#x27;,\n",
       "       &#x27;2022-11-30T00:00:00.000000000&#x27;, &#x27;2022-12-31T00:00:00.000000000&#x27;],\n",
       "      dtype=&#x27;datetime64[ns]&#x27;)</pre></div></li></ul></div></li><li class='xr-section-item'><input id='section-30b67aab-2249-4e6b-93f6-ec3e8c85827a' class='xr-section-summary-in' type='checkbox'  ><label for='section-30b67aab-2249-4e6b-93f6-ec3e8c85827a' class='xr-section-summary' >Indexes: <span>(1)</span></label><div class='xr-section-inline-details'></div><div class='xr-section-details'><ul class='xr-var-list'><li class='xr-var-item'><div class='xr-index-name'><div>time</div></div><div class='xr-index-preview'>PandasIndex</div><div></div><input id='index-1758cef6-e30d-4242-972c-bf61b927fca2' class='xr-index-data-in' type='checkbox'/><label for='index-1758cef6-e30d-4242-972c-bf61b927fca2' title='Show/Hide index repr'><svg class='icon xr-icon-database'><use xlink:href='#icon-database'></use></svg></label><div class='xr-index-data'><pre>PandasIndex(DatetimeIndex([&#x27;2021-01-31&#x27;, &#x27;2021-02-28&#x27;, &#x27;2021-03-31&#x27;, &#x27;2021-04-30&#x27;,\n",
       "               &#x27;2021-05-31&#x27;, &#x27;2021-06-30&#x27;, &#x27;2021-07-31&#x27;, &#x27;2021-08-31&#x27;,\n",
       "               &#x27;2021-09-30&#x27;, &#x27;2021-10-31&#x27;, &#x27;2021-11-30&#x27;, &#x27;2021-12-31&#x27;,\n",
       "               &#x27;2022-01-31&#x27;, &#x27;2022-02-28&#x27;, &#x27;2022-03-31&#x27;, &#x27;2022-04-30&#x27;,\n",
       "               &#x27;2022-05-31&#x27;, &#x27;2022-06-30&#x27;, &#x27;2022-07-31&#x27;, &#x27;2022-08-31&#x27;,\n",
       "               &#x27;2022-09-30&#x27;, &#x27;2022-10-31&#x27;, &#x27;2022-11-30&#x27;, &#x27;2022-12-31&#x27;],\n",
       "              dtype=&#x27;datetime64[ns]&#x27;, name=&#x27;time&#x27;, freq=&#x27;M&#x27;))</pre></div></li></ul></div></li><li class='xr-section-item'><input id='section-a7172820-b034-4e89-b764-10066b76c817' class='xr-section-summary-in' type='checkbox' disabled ><label for='section-a7172820-b034-4e89-b764-10066b76c817' class='xr-section-summary'  title='Expand/collapse section'>Attributes: <span>(0)</span></label><div class='xr-section-inline-details'></div><div class='xr-section-details'><dl class='xr-attrs'></dl></div></li></ul></div></div>"
      ],
      "text/plain": [
       "<xarray.DataArray 'value' (time: 24)>\n",
       "array([  3.45382974,  17.90833948,  31.47301885,  28.1486141 ,\n",
       "        18.85882679,  12.07795726,  -7.25161255, -21.34267399,\n",
       "       -27.43523241, -29.64755841, -21.80187816,  -6.71803693,\n",
       "         4.46887516,  13.98665331,  32.26006019,  30.48937887,\n",
       "        24.57933703,   6.42457921,  -6.02996446, -17.9042123 ,\n",
       "       -26.82100577, -28.65159479, -23.12826368,  -7.70246372])\n",
       "Coordinates:\n",
       "  * time     (time) datetime64[ns] 2021-01-31 2021-02-28 ... 2022-12-31"
      ]
     },
     "execution_count": 36,
     "metadata": {},
     "output_type": "execute_result"
    }
   ],
   "source": [
    "monthly_sum"
   ]
  },
  {
   "cell_type": "markdown",
   "id": "2930a833-19be-4c7f-9833-330ce86e2ba9",
   "metadata": {},
   "source": [
    "### Offsets\n",
    "\n",
    "Time series data can be shifted using offsets:\n",
    "\n",
    "    Lag Analysis: Offsetting a time series can be useful when you want to compare a series with its past values. This is particularly useful for lag analysis, where you might want to understand how the current value of a series is related to its values some periods ago. In financial time series, for instance, it's common to use lags to compute returns or to study autocorrelations.\n",
    "\n",
    "    Temporal Comparisons: Offsets can be used to compute differences over time. For example, you might offset by 1 day to compute the day-to-day change in a variable. This is often how daily returns are computed in finance or daily increases in cases for epidemiological studies.\n",
    "\n",
    "    Seasonal Adjustments: When analyzing seasonal data, you might want to compare a value to the same value from the previous cycle. For example, in a time series of monthly data, you might offset by 12 months to compare each month to the same month in the previous year.\n",
    "\n",
    "    Modeling Temporal Dependencies: In models like ARIMA (Autoregressive Integrated Moving Average), the relationship between an observation and a number of lagged observations (i.e., offsets) is a central component.\n",
    "\n",
    "    Filling Gaps: Sometimes data might have missing values. Offsetting can help identify these gaps, and then techniques like forward-fill or backward-fill can be applied to impute missing values based on neighboring observations.\n",
    "\n",
    "    Temporal Alignments: When working with multiple time series datasets, offsets can help align datasets that might have been sampled at different intervals or starting points.\n",
    "\n",
    "In essence, offsets are a tool that allows analysts to relate a time series to its own past, aiding in the identification of temporal patterns, trends, and anomalies."
   ]
  },
  {
   "cell_type": "code",
   "execution_count": null,
   "id": "5326c674-ec71-4e61-9e0e-f5371824348c",
   "metadata": {},
   "outputs": [],
   "source": [
    "# Shift data by 1 day\n",
    "shifted_data = data.shift(time=1)\n",
    "\n",
    "# Or, to shift backwards:\n",
    "backward_shifted = data.shift(time=-1)"
   ]
  },
  {
   "cell_type": "markdown",
   "id": "53bc304d-1867-4659-ac65-9ea23ba1364f",
   "metadata": {},
   "source": [
    "### Rolling Statistics\n",
    "\n",
    "Rolling statistics are a way to smooth time series and highlight trends:"
   ]
  },
  {
   "cell_type": "code",
   "execution_count": 37,
   "id": "68049bf7-81a5-4684-bd20-0a86a19140f0",
   "metadata": {
    "tags": []
   },
   "outputs": [],
   "source": [
    "# Compute a 7-day rolling mean\n",
    "rolling_weekly_mean = data.rolling(time=7).mean()\n",
    "\n",
    "# Compute a 7-day rolling standard deviation\n",
    "rolling_weekly_std = data.rolling(time=7).std()\n"
   ]
  },
  {
   "cell_type": "code",
   "execution_count": 39,
   "id": "a3c0b0f0-a50d-4a1b-90e2-73d8105c8748",
   "metadata": {
    "tags": []
   },
   "outputs": [
    {
     "data": {
      "image/png": "[encoded data removed]",
      "text/plain": [
       "<Figure size 1200x1000 with 4 Axes>"
      ]
     },
     "metadata": {},
     "output_type": "display_data"
    }
   ],
   "source": [
    "import matplotlib.pyplot as plt\n",
    "\n",
    "fig, axes = plt.subplots(4, 1, figsize=(12, 10))\n",
    "\n",
    "data.plot(ax=axes[0])\n",
    "axes[0].set_title('Original Time Series')\n",
    "\n",
    "monthly_mean.plot(ax=axes[1], marker='o')\n",
    "axes[1].set_title('Monthly Mean')\n",
    "\n",
    "rolling_weekly_mean.plot(ax=axes[2])\n",
    "axes[2].set_title('7-day Rolling Mean')\n",
    "\n",
    "rolling_weekly_std.plot(ax=axes[3])\n",
    "axes[3].set_title('7-day Rolling Standard Deviation')\n",
    "\n",
    "plt.tight_layout()\n",
    "plt.show()\n"
   ]
  },
  {
   "cell_type": "code",
   "execution_count": null,
   "id": "1bd67080-d7a8-493d-a085-48731f54b8c0",
   "metadata": {},
   "outputs": [],
   "source": []
  },
  {
   "cell_type": "code",
   "execution_count": null,
   "id": "10891d22-28b1-4c9a-a67b-32946f884c4f",
   "metadata": {},
   "outputs": [],
   "source": []
  },
  {
   "cell_type": "code",
   "execution_count": null,
   "id": "1d25d2dc-8fa0-4a27-a370-995c444f679b",
   "metadata": {},
   "outputs": [],
   "source": []
  }
 ],
 "metadata": {
  "kernelspec": {
   "display_name": "Python 3 (ipykernel)",
   "language": "python",
   "name": "python3"
  },
  "language_info": {
   "codemirror_mode": {
    "name": "ipython",
    "version": 3
   },
   "file_extension": ".py",
   "mimetype": "text/x-python",
   "name": "python",
   "nbconvert_exporter": "python",
   "pygments_lexer": "ipython3",
   "version": "3.11.5"
  }
 },
 "nbformat": 4,
 "nbformat_minor": 5
}
