{
 "cells": [
  {
   "cell_type": "markdown",
   "metadata": {},
   "source": [
    "# Automating Notebook Updates\n",
    "\n",
    "Code and comments often require updates and revisions, and this applies to my notebooks as well. With this script, you can automatically download updated notebooks and replace the existing ones in your local repository. While this can also be done manually, this method is much more efficient.  Additionally, this script allows you to easily download solution scripts automatically. All you need to do is adjust the `github_urls` and `local_paths` to match your (or my 😃) needs."
   ]
  },
  {
   "cell_type": "code",
   "execution_count": null,
   "metadata": {},
   "outputs": [],
   "source": [
    "import requests\n",
    "import os\n",
    "\n",
    "def download_notebooks(github_urls, local_paths, replace=True):\n",
    "    \"\"\"\n",
    "    Downloads notebooks from GitHub and optionally replaces existing files.\n",
    "    \n",
    "    Parameters:\n",
    "    - github_urls (list of str): List of GitHub raw URLs to download the notebooks.\n",
    "    - local_paths (list of str): List of local file paths where the notebooks should be saved.\n",
    "    - replace (bool): If True, existing files will be replaced. If False, only download if the file doesn't exist.\n",
    "    \n",
    "    Returns:\n",
    "    - None\n",
    "    \"\"\"\n",
    "    if len(github_urls) != len(local_paths):\n",
    "        raise ValueError(\"The number of URLs and local paths must match.\")\n",
    "    \n",
    "    for github_url, local_path in zip(github_urls, local_paths):\n",
    "        try:\n",
    "            # Check if file already exists\n",
    "            if not replace and os.path.exists(local_path):\n",
    "                print(f\"File already exists and 'replace' is False: {local_path}\")\n",
    "                continue\n",
    "            \n",
    "            # Download the notebook from GitHub\n",
    "            response = requests.get(github_url)\n",
    "            response.raise_for_status()  # Raise error if request failed\n",
    "\n",
    "            # Save the notebook to the specified path\n",
    "            with open(local_path, \"wb\") as file:\n",
    "                file.write(response.content)\n",
    "\n",
    "            print(f\"Notebook successfully downloaded: {local_path}\")\n",
    "        except requests.exceptions.RequestException as e:\n",
    "            print(f\"Error downloading {github_url}: {e}\")"
   ]
  },
  {
   "cell_type": "code",
   "execution_count": null,
   "metadata": {},
   "outputs": [],
   "source": [
    "\n",
    "# Usage\n",
    "github_urls = [\n",
    "    \"https://raw.githubusercontent.com/STEMJulesCoast/OceanographicDataProcessingCourse/main/Session3_FunctionsModules/session_3_notebook.ipynb\",\n",
    "    \"https://raw.githubusercontent.com/STEMJulesCoast/OceanographicDataProcessingCourse/main/Session4_EkmanAnalysis/session_4_notebook.ipynb\",\n",
    "   # \"https://raw.githubusercontent.com/STEMJulesCoast/OceanographicDataProcessingCourse/main/Homework/homework2.ipynb\"\n",
    "]\n",
    "\n",
    "local_paths = [\n",
    "    \"Session3_FunctionsModules/session_3_notebook.ipynb\",\n",
    "    \"Session4_EkmanAnalysis/session_4_notebook.ipynb\",\n",
    "   # 'Homework/homework2.ipynb'\n",
    "]\n",
    "\n",
    "# Call the function (set replace=True to overwrite, False to only download new files)\n",
    "download_notebooks(github_urls, local_paths, replace=True)\n"
   ]
  }
 ],
 "metadata": {
  "kernelspec": {
   "display_name": ".venv",
   "language": "python",
   "name": "python3"
  },
  "language_info": {
   "codemirror_mode": {
    "name": "ipython",
    "version": 3
   },
   "file_extension": ".py",
   "mimetype": "text/x-python",
   "name": "python",
   "nbconvert_exporter": "python",
   "pygments_lexer": "ipython3",
   "version": "3.12.2"
  }
 },
 "nbformat": 4,
 "nbformat_minor": 2
}
