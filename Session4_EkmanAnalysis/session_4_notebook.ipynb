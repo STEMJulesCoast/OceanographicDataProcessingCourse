{
 "cells": [
  {
   "cell_type": "markdown",
   "metadata": {},
   "source": [
    "# Analysis of Ekman Dynamics\n",
    "\n",
    "In this notebook, we will delve into the analysis of Ekman dynamics using wind data for 2023. This process involves computing Ekman transport, wind stress curl, and vertical Ekman velocity. These are fundamental components for understanding wind-driven ocean circulation.\n",
    "\n",
    "We will begin by importing the necessary Python libraries for data analysis and visualization. Additionally, we will load the `ekman_dynamics` module that we developed in the previous session. This module contains custom functions for calculating the Ekman properties, which we will reuse throughout this notebook.\n",
    "\n",
    "First, we import the necessary libaries:"
   ]
  },
  {
   "cell_type": "code",
   "execution_count": 1,
   "metadata": {},
   "outputs": [],
   "source": [
    "# run the cell\n",
    "# Standard libraries\n",
    "import os\n",
    "#import requests\n",
    "\n",
    "# Scientific libraries\n",
    "import numpy as np\n",
    "import xarray as xr\n",
    "\n",
    "\n",
    "#Visualization libraries\n",
    "\n",
    "from mpl_toolkits.basemap import Basemap\n",
    "import matplotlib.pyplot as plt\n",
    "\n",
    "\n",
    "\n"
   ]
  },
  {
   "cell_type": "markdown",
   "metadata": {},
   "source": [
    "### Loading Wind Data and Testing Ekman Functions\n",
    "\n",
    "Now, let's load our wind data for 2023 (12 months) and test if our functions work correctly. Additionally, we want to compare the results when we calculate the Ekman properties in two different ways:\n",
    "\n",
    "    Annual Mean Approach: First, we calculate the annual mean of the wind data and then compute the Ekman properties.\n",
    "\n",
    "    Monthly Data Approach: We calculate the Ekman properties for each month individually and then average the results.\n",
    "\n",
    "Finally, we will analyze whether there is any significant difference between the two approaches. What do you expect the differences to be?\n",
    "\n",
    "\n",
    "\n",
    "\n",
    "\n",
    "\n",
    "\n",
    "### Conditional Loading of Wind Data\n",
    "\n",
    "Before we proceed, it's important to ensure that the necessary wind data files are available. In this step, we introduce an if-else statement, which is a fundamental decision-making structure in programming.\n",
    "\n",
    "The if-else logic allows us to check for conditions and execute code accordingly. In our case, we use it to verify if the wind data files exist before attempting to load them.\n",
    "\n",
    "    If the files are found, the dataset will be loaded.\n",
    "    Else if any files are missing, the program will notify us which files are missing, and the dataset will not be loaded.\n",
    "\n",
    "This logic ensures that we avoid errors related to missing data and proceed only when the necessary files are available.\n",
    "\n",
    "\n",
    "**Note**: You probably already downloaded the data as it was one of the tasks in Session 1. If you want to test whether the conditional loading works, you can simply change the year range. This way, files that are definitely not in the folder will be included in your dictionary. This helps verify that the file existence check is functioning as expected.\n"
   ]
  },
  {
   "cell_type": "code",
   "execution_count": null,
   "metadata": {},
   "outputs": [],
   "source": [
    "# run the cell to get the wind data\n",
    "## datapath and filename\n",
    "datapath = '../Data/Wind'\n",
    "\n",
    "# run the cell\n",
    "\n",
    "# Load data\n",
    "# Define file paths for the year 2023\n",
    "data_ranges = {year: list(range(1, 13)) for year in range(2023, 2024)}\n",
    "\n",
    "filenames = [os.path.join(datapath, f'cmems_obs-wind_glo_phy_my_l4_P1M_{year}{str(month).zfill(2)}.nc') \n",
    "              for year, months in data_ranges.items() for month in months]\n",
    "\n",
    "# Check if all files exist before loading\n",
    "missing_files = [file for file in filenames if not os.path.exists(file)]\n",
    "\n",
    "# Conditional logic to load data only if files are available\n",
    "if not missing_files:\n",
    "    # Load the files using open_mfdataset\n",
    "    print(\"All files found. Loading the dataset...\")\n",
    "    ds_wind = xr.open_mfdataset(filenames, combine='by_coords')\n",
    "else:\n",
    "    # Print an error message and list the missing files\n",
    "    print(\"The following files are missing, so the dataset will not be loaded:\")\n",
    "    for missing in missing_files:\n",
    "        print(missing)"
   ]
  },
  {
   "cell_type": "code",
   "execution_count": null,
   "metadata": {},
   "outputs": [],
   "source": [
    "# run the cell\n",
    "ds_wind.coords"
   ]
  },
  {
   "cell_type": "markdown",
   "metadata": {},
   "source": [
    "**1. Exercise: Calculate Ekman Dynamics from Annual Mean Wind Data**\n",
    "\n",
    "In this exercise, you will calculate the Ekman dynamics based on the annual mean wind dataset. This will help you understand how averaging over time affects the variability in Ekman transport, Ekman pumping, and wind stress curl.\n",
    "\n",
    "Steps 1:\n",
    "\n",
    "**Load the module**:\n",
    "First, you need to ensure that the path to the ekman_dynamics module is correctly set. Use the following code snippet to append the correct path and import the function `compute_ekman_properties`.\n",
    "\n",
    "\n",
    "\n",
    "To ensure proper access to the module, we will add the path to the folder where the `ekman_dynamics.py` script is stored using the `sys.path.append()` command. This allows us to import and use our custom functions seamlessly within this notebook."
   ]
  },
  {
   "cell_type": "code",
   "execution_count": 4,
   "metadata": {},
   "outputs": [],
   "source": [
    "# run the cell\n",
    "\n",
    "import sys\n",
    "# we add the folder to Python's search path, allowing us to import custom modules from that directory\n",
    "sys.path.append('../Modules')\n",
    "\n",
    "\n",
    "from ekman_dynamics import compute_ekman_properties"
   ]
  },
  {
   "cell_type": "code",
   "execution_count": null,
   "metadata": {},
   "outputs": [],
   "source": [
    "# run the cell\n",
    "help(compute_ekman_properties)"
   ]
  },
  {
   "cell_type": "markdown",
   "metadata": {},
   "source": [
    "Step 2:\n",
    "\n",
    "**Compute the Annual Mean**: Now, calculate the annual mean for all variables in your wind dataset. This will average each variable over the entire time period, resulting in a dataset that represents the mean values across all time steps for each spatial point."
   ]
  },
  {
   "cell_type": "code",
   "execution_count": 6,
   "metadata": {},
   "outputs": [],
   "source": [
    "# your code here\n",
    "ds_wind_mean=\n",
    "\n"
   ]
  },
  {
   "cell_type": "code",
   "execution_count": null,
   "metadata": {},
   "outputs": [],
   "source": [
    "# run the cell\n",
    "# Verify if the data looks as expected\n",
    "ds_wind_mean"
   ]
  },
  {
   "cell_type": "code",
   "execution_count": null,
   "metadata": {},
   "outputs": [],
   "source": [
    "# plot the eastward_wind (keep it simple -> use .plot())\n"
   ]
  },
  {
   "cell_type": "markdown",
   "metadata": {},
   "source": [
    "Step 3\n",
    "\n",
    "**Calculate Ekman Properties**\n",
    "Using the annual mean wind data (`ds_wind_mean`), calculate the Ekman properties. Pass the eastward_wind and northward_wind values to the `compute_ekman_properties` function."
   ]
  },
  {
   "cell_type": "code",
   "execution_count": 9,
   "metadata": {},
   "outputs": [],
   "source": [
    "# your code here\n",
    "#curl_tau, M_u, M_v, mean_Ekman, w_E = \n"
   ]
  },
  {
   "cell_type": "markdown",
   "metadata": {},
   "source": [
    "We quickly plot the vertical Ekman velocity for a visual check using plot and adding a mask, so that only ocean regions are shown"
   ]
  },
  {
   "cell_type": "code",
   "execution_count": null,
   "metadata": {},
   "outputs": [],
   "source": [
    "# run the cell\n",
    "mask = ds_wind_mean.number_of_observations.notnull()\n",
    "\n",
    "w_E.where(mask).plot(cmap='RdBu_r',vmin=-.00001, vmax=.00001)"
   ]
  },
  {
   "cell_type": "markdown",
   "metadata": {},
   "source": [
    "Step 4\n",
    "\n",
    "Now calculate the Ekman components based on the monthly fields.\n",
    "Our functions are designed to handle this calculation within the function itself.\n",
    "\n"
   ]
  },
  {
   "cell_type": "code",
   "execution_count": null,
   "metadata": {},
   "outputs": [],
   "source": [
    "# your code here\n",
    "#curl_tau_monthly, M_u_monthly, M_v_monthly, mean_Ekman_monthly, w_E_monthly = \n"
   ]
  },
  {
   "cell_type": "code",
   "execution_count": null,
   "metadata": {},
   "outputs": [],
   "source": [
    "# run the cell\n",
    "# checking the shape of w_E\n",
    "w_E_monthly.shape"
   ]
  },
  {
   "cell_type": "code",
   "execution_count": null,
   "metadata": {},
   "outputs": [],
   "source": []
  },
  {
   "cell_type": "markdown",
   "metadata": {},
   "source": [
    "We quickly average and plot the vertical Ekman velocity for a visual check using plot and adding a mask, so that only ocean regions are shown"
   ]
  },
  {
   "cell_type": "code",
   "execution_count": null,
   "metadata": {},
   "outputs": [],
   "source": [
    "# run the cell\n",
    "\n",
    "w_E_monthly.mean(dim='time').where(mask).plot(cmap='RdBu_r',vmin=-.00001, vmax=.00001)"
   ]
  },
  {
   "cell_type": "markdown",
   "metadata": {},
   "source": [
    "**2. Exercise**    \n",
    "Compare the patterns and magnitudes of `w_E` computed based on the annual mean of wind data with those computed from the monthly calculations of `w_E`. To do this, compute the difference between the two.  What do these differences tell us?  Observe the regions with significant discrepancies and discuss what these differences might imply about seasonal wind variations and their impact on Ekman transport.\n",
    "."
   ]
  },
  {
   "cell_type": "code",
   "execution_count": null,
   "metadata": {},
   "outputs": [],
   "source": [
    "# your code here\n",
    "\n"
   ]
  },
  {
   "cell_type": "markdown",
   "metadata": {},
   "source": [
    "### Your Observations here\n",
    "\n",
    ".....\n",
    "\n",
    "\n",
    "\n",
    "**3. Exercise**\n",
    "\n",
    "Also plot the differences for the other Ekman properties."
   ]
  },
  {
   "cell_type": "code",
   "execution_count": null,
   "metadata": {},
   "outputs": [],
   "source": [
    "# your code here "
   ]
  },
  {
   "cell_type": "code",
   "execution_count": null,
   "metadata": {},
   "outputs": [],
   "source": []
  },
  {
   "cell_type": "code",
   "execution_count": null,
   "metadata": {},
   "outputs": [],
   "source": []
  },
  {
   "cell_type": "code",
   "execution_count": null,
   "metadata": {},
   "outputs": [],
   "source": []
  },
  {
   "cell_type": "markdown",
   "metadata": {},
   "source": [
    "\n",
    "**Extra Excercise**\n",
    "\n",
    "So far in Session 4, we’ve been using the basic `.plot()` function for visualizations. However, in previous sessions, we created more refined figures with gridlines, axis labels, and other enhancements.\n",
    "\n",
    "Now, let's take it a step further by producing a more refined plot of the vertical Ekman Velocity, along with the other variables we've calculated.\n",
    "\n",
    "Additionally, consider creating a reusable plot function to avoid duplicating the plotting code each time.\n"
   ]
  },
  {
   "cell_type": "code",
   "execution_count": null,
   "metadata": {},
   "outputs": [],
   "source": [
    "# your plot\n",
    "\n"
   ]
  },
  {
   "cell_type": "code",
   "execution_count": null,
   "metadata": {},
   "outputs": [],
   "source": [
    "# Optional: your plotting function and test of the function\n"
   ]
  },
  {
   "cell_type": "markdown",
   "metadata": {},
   "source": [
    "### Coastal Upwelling\n",
    "\n",
    "Run the next cell to get a plot showing coastal upwelling in the region near San Francisco. The wind vectors run parallel to the coast, pushing surface water away from the land. Positive Ekman pumping velocity (coloured) is enhanced in a near-coastal band. As a result, cold, nutrient-rich water rises from the depths to replace the surface layers, which is characteristic of upwelling zones.\n",
    "\n"
   ]
  },
  {
   "cell_type": "code",
   "execution_count": null,
   "metadata": {},
   "outputs": [],
   "source": [
    "# run the cell\n",
    "\n",
    "w_E_masked=w_E.where(mask)\n",
    "\n",
    "cu = w_E_masked.sel(lon=slice(-140, -110), lat=slice(20,50))\n",
    "\n",
    "fig, ax = plt.subplots()\n",
    "# Plot the coastal upwelling\n",
    "cu.plot(ax=ax, vmin=-1e-6, vmax=1e-6, cmap='viridis')\n",
    "\n",
    "# \n",
    "u = ds_wind_mean['eastward_wind'].sel(lon=slice(-140, -110), lat=slice(20,50))[::10, ::10]  \n",
    "v = ds_wind_mean['northward_wind'].sel(lon=slice(-140, -110), lat=slice(20,50))[::10, ::10]  \n",
    "\n",
    "# \n",
    "ax.quiver(u.lon, u.lat, u.values, v.values, scale=100, color='white')\n",
    "\n",
    "ax.set_title('Coastal Upwelling near San Francisco')\n",
    "plt.show()\n"
   ]
  },
  {
   "cell_type": "markdown",
   "metadata": {},
   "source": [
    "**Upwelling region in the Humboldt Current System**\n",
    "\n",
    "This region, along the coasts of Peru and northern Chile, experiences enhanced upwelling, which is influenced by ENSO phases, significantly affecting ocean productivity and climate variability."
   ]
  },
  {
   "cell_type": "code",
   "execution_count": null,
   "metadata": {},
   "outputs": [],
   "source": [
    "# run the cell\n",
    "cu = w_E_masked.sel(lon=slice(-85, -60), lat=slice(-40,5))\n",
    "\n",
    "fig, ax = plt.subplots()\n",
    "# Plot the coastal upwelling\n",
    "cu.plot(ax=ax, vmin=-1e-6, vmax=1e-6, cmap='viridis')\n",
    "\n",
    "# \n",
    "u = ds_wind_mean['eastward_wind'].sel(lon=slice(-85, -60), lat=slice(-40,-5))[::10, ::10]  \n",
    "v = ds_wind_mean['northward_wind'].sel(lon=slice(-85, -60), lat=slice(-40,-5))[::10, ::10]  \n",
    "\n",
    "# \n",
    "ax.quiver(u.lon, u.lat, u.values, v.values, scale=100, color='white')\n",
    "\n",
    "ax.set_title('Coastal Upwelling in the Humboldt Current System, South America')\n",
    "plt.show()"
   ]
  },
  {
   "cell_type": "code",
   "execution_count": 2,
   "metadata": {},
   "outputs": [
    {
     "data": {
      "text/html": [
       "<img src=\"https://oceanexplorer.noaa.gov/facts/media/upwelling-800.jpg\" width=\"500\" height=\"300\"/>"
      ],
      "text/plain": [
       "<IPython.core.display.Image object>"
      ]
     },
     "execution_count": 2,
     "metadata": {},
     "output_type": "execute_result"
    }
   ],
   "source": [
    "#run the cell\n",
    "\n",
    "from IPython.display import Image\n",
    "\n",
    "# How to display an image from a URL\n",
    "Image(url='https://oceanexplorer.noaa.gov/facts/media/upwelling-800.jpg', width=500, height=300)"
   ]
  },
  {
   "cell_type": "markdown",
   "metadata": {},
   "source": [
    "Figure modified by D. Reed from image by J. Wallace and S. Vogel, El Niño and Climate Prediction. Image courtesy of Sanctuary Quest 2002, NOAA/OER. and included in this notebook via https://oceanexplorer.noaa.gov/facts/upwelling.html"
   ]
  }
 ],
 "metadata": {
  "kernelspec": {
   "display_name": ".venv",
   "language": "python",
   "name": "python3"
  },
  "language_info": {
   "codemirror_mode": {
    "name": "ipython",
    "version": 3
   },
   "file_extension": ".py",
   "mimetype": "text/x-python",
   "name": "python",
   "nbconvert_exporter": "python",
   "pygments_lexer": "ipython3",
   "version": "3.12.2"
  }
 },
 "nbformat": 4,
 "nbformat_minor": 2
}
