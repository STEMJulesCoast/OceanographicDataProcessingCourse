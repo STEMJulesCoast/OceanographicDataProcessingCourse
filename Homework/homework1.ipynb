{
 "cells": [
  {
   "cell_type": "markdown",
   "metadata": {},
   "source": [
    "# Homework: Calculate IOD Composites from SST Data\n",
    "\n",
    "In this homework, you will calculate SST composites based on the Dipole Mode Index (DMI). The DMI is used to quantify the strength of the Indian Ocean Dipole (IOD), a climate phenomenon in the Indian Ocean. The DMI is calculated as the difference in SST anomalies between two specific regions:\n",
    "\n",
    "- Western Indian Ocean (10S-10N, 50E-70E)\n",
    "- Southeastern Indian Ocean (10S-0, 90E-110E)\n",
    "\n",
    "When the SST in the western region is warmer than in the eastern region, a positive IOD event occurs, while the opposite leads to a negative IOD event. These phases affect climate patterns across surrounding regions, making the DMI a useful tool for understanding regional climate variability.\n",
    "\n",
    "\n",
    "\n",
    "\n",
    "The task is structured to guide you through the key steps we've covered in the previous sessions:\n",
    "\n",
    "1. Load and preprocess SST data, choose the same period as in the excercises ([`session_2_notebook.ipynb`](../Session2_DataHandling/session_2_notebook.ipynb)).\n",
    "2. Calculate anomalies and detrend the SST data.\n",
    "3. Calculate the DMI from the monthly detrended SST anomalies.\n",
    "4. Calculate SST composites based on positive and negative IOD events.\n",
    "5. Plot the results over the Indian Ocean, visualizing both positive and negative IOD phases.\n",
    "\n",
    "\n",
    "\n",
    "You are encouraged to use the script [`enso_functions.py`](../Session2_DataHandling/enso_functions.py) as a reference. Within this script, you will find functions and calculations similar to what you need for this task. Feel free to copy and adapt the relevant code snippets as needed for your calculations.\n"
   ]
  },
  {
   "cell_type": "markdown",
   "metadata": {},
   "source": [
    "I guess you will need the following libraries: "
   ]
  },
  {
   "cell_type": "code",
   "execution_count": 1,
   "metadata": {},
   "outputs": [],
   "source": [
    "\n",
    "# Standard libraries\n",
    "#import os\n",
    "import numpy as np\n",
    "import pandas as pd\n",
    "import xarray as xr\n",
    "import matplotlib.pyplot as plt\n",
    "from mpl_toolkits.basemap import Basemap\n",
    "from scipy.signal import detrend"
   ]
  },
  {
   "cell_type": "markdown",
   "metadata": {},
   "source": [
    "Good luck with the task!\n",
    "\n",
    "#### Step 1: Load the SST data"
   ]
  },
  {
   "cell_type": "code",
   "execution_count": null,
   "metadata": {},
   "outputs": [],
   "source": []
  },
  {
   "cell_type": "markdown",
   "metadata": {},
   "source": [
    "#### Step 2: Calculate SST Anomalies\n"
   ]
  },
  {
   "cell_type": "code",
   "execution_count": null,
   "metadata": {},
   "outputs": [],
   "source": []
  },
  {
   "cell_type": "markdown",
   "metadata": {},
   "source": [
    "#### Step 3: Detrend the SST Data\n"
   ]
  },
  {
   "cell_type": "code",
   "execution_count": 4,
   "metadata": {},
   "outputs": [],
   "source": []
  },
  {
   "cell_type": "markdown",
   "metadata": {},
   "source": [
    "#### Step 4. Calculate the DMI based on the difference between the western and the southeastern Indian Ocean detrended SST anomalies\n",
    "\n",
    "Calculate the DMI as a 3 month rolling mean. You can refer to the function `calculate_nino34_index` in `enso_functions.py`, which calculates a 5-month rolling mean..."
   ]
  },
  {
   "cell_type": "code",
   "execution_count": null,
   "metadata": {},
   "outputs": [],
   "source": [
    "\n"
   ]
  },
  {
   "cell_type": "markdown",
   "metadata": {},
   "source": [
    "Positive IOD events are identified when the thee-month rolling mean DMI is 0.4°C or above (-0.4°C for negative events) for at least three consecutive month between June and November. More infos here: https://ds.data.jma.go.jp/tcc/tcc/products/elnino/iodevents.html\n",
    "\n",
    "To implement this, review the `calculate_composites` function, where composites are calculated for Enso using a six-month rolling window. The key difference here is that you need to focus specifically on the months between June and November, filtering the data accordingly.\n",
    "\n",
    "Use `time.month` to filter the months of interest (June to November). You can combine this with `isin` to select the correct months. For reference, here is the link to the [xarray documentation on how to use isin](https://docs.xarray.dev/en/stable/generated/xarray.DataArray.isin.html)."
   ]
  },
  {
   "cell_type": "code",
   "execution_count": 6,
   "metadata": {},
   "outputs": [],
   "source": [
    "\n"
   ]
  },
  {
   "cell_type": "markdown",
   "metadata": {},
   "source": [
    "### Step 5: Calculate the composites for positive and negative IOD phases and plot them\n",
    "\n"
   ]
  },
  {
   "cell_type": "code",
   "execution_count": 7,
   "metadata": {},
   "outputs": [],
   "source": [
    "\n"
   ]
  },
  {
   "cell_type": "code",
   "execution_count": 1,
   "metadata": {},
   "outputs": [],
   "source": [
    "# Plot the SST composites"
   ]
  }
 ],
 "metadata": {
  "kernelspec": {
   "display_name": ".venv",
   "language": "python",
   "name": "python3"
  },
  "language_info": {
   "codemirror_mode": {
    "name": "ipython",
    "version": 3
   },
   "file_extension": ".py",
   "mimetype": "text/x-python",
   "name": "python",
   "nbconvert_exporter": "python",
   "pygments_lexer": "ipython3",
   "version": "3.12.2"
  }
 },
 "nbformat": 4,
 "nbformat_minor": 2
}
