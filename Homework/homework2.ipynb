{
 "cells": [
  {
   "cell_type": "markdown",
   "metadata": {},
   "source": [
    "This homework is intended for the period between November 30th and January 11th.\n",
    "\n",
    "\n",
    "\n",
    "\n",
    "# Calculating and Analyzing Climate Indices Using SST Anomalies\n",
    "\n",
    "In this exercise, you’ll calculate SST anomaly-based indices like the Dipole Mode Index (DMI), Niño 3.4, and the Tropical Northern Atlantic (TNA) index. The TNA is a climate variability index tracking SST anomalies in the eastern tropical North Atlantic, which influence precipitation in South America. These indices are essential for understanding climate patterns. You’ll adjust existing functions to analyze climate events through composites. You'll also include latitude weighting for accurate regional SST representation.\n",
    "\n",
    "**<p style=\"color:royalblue;\">The effect of latitudinal weighting is minimal in our case, as the spatial regions we average are close to the equator. This method becomes more important when averaging globally or when anomalies within the box vary significantly from grid cell to grid cell. However, for consistency, it is good practice to apply it in all cases.</p>**\n",
    "\n",
    "## Tasks\n",
    "The code cell below contains the function you need to modify to include calculations for the Niño 3.4 and TNA indices. Use the DMI calculation as a reference, as it is already implemented in the code. Your task is to extend this function to calculate the Niño 3.4 and TNA indices, incorporating latitude weighting for accuracy.\n",
    "\n",
    "\n",
    "### 1. Calculate Indices\n",
    "- **Niño 3.4**: Copy code from [`enso_functions.py`](../Session2_DataHandling/enso_functions.py), add latitude weighting, and verify results.\n",
    "- **TNA**: Use [NOAA's bounding box for TNA](https://stateoftheocean.osmc.noaa.gov/sur/atl/tna.php). Calculate a 3-month rolling mean and define positive events for June-August with values >0.4°C.\n",
    "- Reference the DMI calculation to see how to implement latitude weighting.\n",
    "\n",
    "### 2. Define Positive and Negative Events\n",
    "- Set threshold-based criteria to define events for each index.\n",
    "\n",
    "### 3. Generate Composites\n",
    "- Use provided functions to visualize SST anomaly composites for positive and negative events.\n",
    "\n",
    "### 4. Analysis\n",
    "- Discuss how using June-August months for TNA and the rolling mean impact event identification.\n",
    "\n",
    "\n"
   ]
  },
  {
   "cell_type": "code",
   "execution_count": null,
   "metadata": {},
   "outputs": [],
   "source": [
    "# import necessary library\n",
    "\n",
    "import numpy as np\n",
    "import matplotlib.pyplot as plt\n",
    "from mpl_toolkits.basemap import Basemap\n",
    "import xarray as xr\n",
    "from scipy.signal import detrend"
   ]
  },
  {
   "cell_type": "code",
   "execution_count": null,
   "metadata": {},
   "outputs": [],
   "source": [
    "# modify functions\n",
    "\n",
    "def calculate_index(sst_anom_detrended, index_name):\n",
    "    \"\"\"\n",
    "    Generalized function to calculate climate indices based on SST anomalies and specified region(s).\n",
    "    \"\"\"\n",
    "\n",
    "    # Calculate latitude weights\n",
    "    latitudes = sst_anom_detrended['lat']\n",
    "    weights = np.cos(np.deg2rad(latitudes)).where(~sst_anom_detrended[0].isnull()).fillna(0)\n",
    "    ## test without lat weighting - effect negligible for near equator boxes\n",
    "    #weights = xr.DataArray(1, coords=sst_anom_detrended[0].coords, dims=sst_anom_detrended[0].dims)\n",
    "    #weights = weights.where(~sst_anom_detrended[0].isnull()).fillna(0)\n",
    "    \n",
    "\n",
    "\n",
    "    if index_name.lower() == 'dmi':\n",
    "        # Define regions for DMI (IOD Index): Western and Eastern Indian Ocean regions\n",
    "        region1 = sst_anom_detrended.sel(lat=slice(10, -10), lon=slice(50, 70))\n",
    "        region2 = sst_anom_detrended.sel(lat=slice(0, -10), lon=slice(90, 110))\n",
    "        # Apply latitude weights and calculate the weighted mean for both regions\n",
    "        weighted_region1 = (region1 * weights).mean(dim=['lat', 'lon'])\n",
    "        weighted_region2 = (region2 * weights).mean(dim=['lat', 'lon'])\n",
    "        index = (weighted_region1 - weighted_region2).rolling(time=3, center=True).mean()\n",
    "\n",
    "    elif index_name.lower() == 'nino3.4':\n",
    "        \n",
    "    # Add additional elif case for tna  here...\n",
    "\n",
    "    else:\n",
    "        raise ValueError(f\"Index '{index_name}' not recognized.\")\n",
    "\n",
    "    return index\n",
    "\n",
    "def calculate_composites(anom_detrended, index, index_name):\n",
    "    \"\"\"\n",
    "    Calculate composites for positive and negative events based on the given index and climate pattern.\n",
    "    \"\"\"\n",
    "    if index_name.lower() == 'dmi':\n",
    "        # Define criteria for positive and negative IOD events (DMI)\n",
    "        positive_events = ((index > 0.4).astype('b').rolling(time=3, center=True).sum() >= 3) & index['time.month'].isin([6, 7, 8, 9, 10, 11])\n",
    "        negative_events = ((index < -0.4).astype('b').rolling(time=3, center=True).sum() >= 3) & index['time.month'].isin([6, 7, 8, 9, 10, 11])\n",
    "\n",
    "    elif index_name.lower() == 'nino3.4':\n",
    "        # Define criteria for positive and negative ENSO events, use enso_functions.py as a reference\n",
    "\n",
    "    elif index_name.lower() == 'tna':\n",
    "        # Define criteria for positive and negative TNA events in JJA (June, July, August)    \n",
    "\n",
    "    \n",
    "\n",
    "    else:\n",
    "        raise ValueError(f\"Index '{index_name}' not recognized.\")\n",
    "\n",
    "    # Calculate the average anomaly during positive and negative events\n",
    "    anom_positive = anom_detrended.where(positive_events).mean(dim='time')\n",
    "    anom_negative = anom_detrended.where(negative_events).mean(dim='time')\n",
    "\n",
    "    return anom_positive, anom_negative\n",
    "\n",
    "def plot_composites(anom_positive, anom_negative, vmin=-1.5, vmax=1.5, label='°C', variable='SST', index_name='Index', \n",
    "                    lon_range=None, lat_range=None):\n",
    "    \"\"\"\n",
    "    Plot composites for positive and negative events based on the climate index provided, \n",
    "    with an option to focus on a specific region.\n",
    "    \n",
    "    Parameters:\n",
    "    - anom_positive, anom_negative: xarray DataArrays for positive and negative anomalies\n",
    "    - vmin, vmax: float, value range for color scale\n",
    "    - label: str, colorbar label\n",
    "    - variable: str, variable name to display in titles\n",
    "    - index_name: str, index name to display in titles\n",
    "    - lon_range: tuple of floats, (min_lon, max_lon) for longitude slicing\n",
    "    - lat_range: tuple of floats, (min_lat, max_lat) for latitude slicing\n",
    "    \"\"\"\n",
    "    # Slice the data for the specified region, if provided\n",
    "    if lon_range:\n",
    "        anom_positive = anom_positive.sel(lon=slice(lon_range[0], lon_range[1]))\n",
    "        anom_negative = anom_negative.sel(lon=slice(lon_range[0], lon_range[1]))\n",
    "    if lat_range:\n",
    "        anom_positive = anom_positive.sel(lat=slice(lat_range[0], lat_range[1]))\n",
    "        anom_negative = anom_negative.sel(lat=slice(lat_range[0], lat_range[1]))\n",
    "\n",
    "    # Plotting\n",
    "    fig, axes = plt.subplots(nrows=1, ncols=2, figsize=(14, 5), sharey=True)\n",
    "\n",
    "    anom_positive.plot(ax=axes[0], cbar_kwargs={'label': label}, vmin=vmin, vmax=vmax, cmap='RdBu_r')\n",
    "    axes[0].set_title(f'{variable} Anomaly - Positive {index_name} Event')\n",
    "\n",
    "    anom_negative.plot(ax=axes[1], cbar_kwargs={'label': label}, vmin=vmin, vmax=vmax, cmap='RdBu_r')\n",
    "    axes[1].set_title(f'{variable} Anomaly - Negative {index_name} Event')\n",
    "\n",
    "    plt.tight_layout()\n",
    "    plt.show()\n",
    "\n",
    "\n"
   ]
  },
  {
   "cell_type": "markdown",
   "metadata": {},
   "source": [
    "Load SST-Data for the period 1960-2023 (again) to analyze composites."
   ]
  },
  {
   "cell_type": "code",
   "execution_count": null,
   "metadata": {},
   "outputs": [],
   "source": [
    "url = 'http://www.esrl.noaa.gov/psd/thredds/dodsC/Datasets/noaa.ersst.v5/sst.mnmean.nc' \n",
    "# or, if data are already stored locally use filename (modify path if necessary) and replace url by filename in open_dataset\n",
    "# fileneme = '../Data/SST/sst.mnmean.nc'\n",
    "ds_sst = xr.open_dataset(url).sel(time=slice('1960-01-01', '2023-12-31'))\n",
    "ds_sst"
   ]
  },
  {
   "cell_type": "markdown",
   "metadata": {},
   "source": [
    "Calculate the detrended SST anomalies—you probably know this by heart by now."
   ]
  },
  {
   "cell_type": "code",
   "execution_count": null,
   "metadata": {},
   "outputs": [],
   "source": [
    "# your code here "
   ]
  },
  {
   "cell_type": "markdown",
   "metadata": {},
   "source": [
    "Using the functions to calculate the DMI and analyze the IOD composites"
   ]
  },
  {
   "cell_type": "code",
   "execution_count": null,
   "metadata": {},
   "outputs": [],
   "source": [
    "# Step 1: Calculate the  index using the SST anomalies\n",
    "dmi_index = calculate_index(sst_anom_detrended,'dmi')\n",
    "\n",
    "# Step 2: Calculate the SST composites for positive and negative  events\n",
    "sst_anom_positive, sst_anom_negative = calculate_composites(sst_anom_detrended,dmi_index,'dmi')\n",
    "\n",
    "# Step 3: Plot the SST composites\n",
    "plot_composites(sst_anom_positive, sst_anom_negative,vmin=-1, vmax=1,lat_range=(20,-20),lon_range=(40,120), index_name='IOD')"
   ]
  },
  {
   "cell_type": "markdown",
   "metadata": {},
   "source": [
    "Your ENSO Analysis here:"
   ]
  },
  {
   "cell_type": "code",
   "execution_count": null,
   "metadata": {},
   "outputs": [],
   "source": [
    "# your code here "
   ]
  },
  {
   "cell_type": "markdown",
   "metadata": {},
   "source": [
    "Your TNA Analysis here:"
   ]
  },
  {
   "cell_type": "code",
   "execution_count": null,
   "metadata": {},
   "outputs": [],
   "source": [
    "# your code here"
   ]
  },
  {
   "cell_type": "markdown",
   "metadata": {},
   "source": [
    "Your Observations:\n",
    "....\n",
    "\n",
    "\n",
    "\n",
    "\n",
    "\n",
    "## Preperation Session 5 and 6:\n",
    "\n",
    "For a general overview of how object-oriented modeling and programming work, please visit this \n",
    "[Storymap](https://storymaps.arcgis.com/stories/dd9d06f89a63400c96927de117a5b28a). The text is in German, but most browsers offer automatic translation. The article provides a closer look at the programming paradigm and dives into the benefits of encapsulation, inheritance, polymorphism, and abstraction.\n",
    "\n",
    "Please download and replace the updated notebooks for Session 5 and Session 6. Use [update_notebooks.ipynb](../update_notebooks.ipynb) script for this purpose. I will share the `github_urls` and `local_paths` a few days before our next meeting on January 11, 2025, via Ahoi mail."
   ]
  }
 ],
 "metadata": {
  "kernelspec": {
   "display_name": ".venv",
   "language": "python",
   "name": "python3"
  },
  "language_info": {
   "codemirror_mode": {
    "name": "ipython",
    "version": 3
   },
   "file_extension": ".py",
   "mimetype": "text/x-python",
   "name": "python",
   "nbconvert_exporter": "python",
   "pygments_lexer": "ipython3",
   "version": "3.12.2"
  }
 },
 "nbformat": 4,
 "nbformat_minor": 2
}
