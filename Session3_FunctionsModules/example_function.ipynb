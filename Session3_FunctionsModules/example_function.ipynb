{
 "cells": [
  {
   "cell_type": "markdown",
   "metadata": {},
   "source": [
    "# Functions / Modules\n",
    "\n",
    "Functions are a foundational concept in programming and offer numerous advantages.\n",
    "\n",
    "**Modularity:** Functions divide a program into smaller parts, making it clearer and easier to maintain. For Ekman calculations, processes such as wind stress calculation can have their own function.  \n",
    "**Reusability:** A defined function can be used multiple times, eliminating repetitive code. With a function like `calculate_area`, you can calculate the area of a rectangle for various length and width by just calling it.  \n",
    "**Error Reduction:** Testing individual functions can reduce errors when updating code. If one function works, it doesn't need retesting when you adjust other parts of your code.  \n",
    "**Parameterization:** Functions allow parameter adjustments easily.   \n",
    "**Readability:** Descriptive function names make the main code more understandable.    \n",
    "**Scalability:** Functions can be updated or extended easily.\n",
    "\n",
    "### Defining a function in Python\n",
    "\n",
    "To define a function in Python, follow these steps:\n",
    "\n",
    "    Use `def` to start defining the function:"
   ]
  },
  {
   "cell_type": "code",
   "execution_count": 1,
   "metadata": {},
   "outputs": [],
   "source": [
    "def function_name(parameters):\n",
    "    # Function body\n",
    "    return result"
   ]
  },
  {
   "cell_type": "markdown",
   "metadata": {},
   "source": [
    "Function Name: The function name should describe its purpose. For example, `calculate_area` indicates that the function computes the area.\n",
    "\n",
    "Parameters: Functions can accept parameters (inputs) that allow them to be reused with different data. In our case, calculate_area(length, width) accepts the dimensions of the shape.\n",
    "\n",
    "Function Body: This is where the logic of the function resides. For example, the area of a rectangle is calculated by multiplying length and width.\n",
    "\n",
    "Return Statement: The function returns a value that can be used elsewhere in the code."
   ]
  },
  {
   "cell_type": "code",
   "execution_count": 14,
   "metadata": {},
   "outputs": [],
   "source": [
    "# Function to calculate the area of a rectangle or square\n",
    "def calculate_area(length, width=None):\n",
    "    \"\"\"\n",
    "    Calculates the area of a rectangle or square.\n",
    "    If only one argument is passed, it assumes the shape is a square.\n",
    "    \n",
    "    Parameters:\n",
    "    - length: Length of the rectangle or side of the square\n",
    "    - width: Width of the rectangle (optional). If not provided, assumed to be equal to length.\n",
    "    \n",
    "    Returns:\n",
    "    - area: Area of the rectangle or square\n",
    "    \"\"\"\n",
    "    # If width is not provided, assume it's a square\n",
    "    if width is None:\n",
    "        width = length\n",
    "        print(\"This is a square!\")\n",
    "    else:\n",
    "        print(\"This is a rectangle.\")\n",
    "    \n",
    "    area = length * width\n",
    "    return area"
   ]
  },
  {
   "cell_type": "code",
   "execution_count": null,
   "metadata": {},
   "outputs": [],
   "source": [
    "# Example values\n",
    "length = 4\n",
    "width = None  # Only length provided, assuming it's a square\n",
    "\n",
    "# Calculate the area\n",
    "area = calculate_area(length, width)\n",
    "print('Area is: ',area)"
   ]
  },
  {
   "cell_type": "markdown",
   "metadata": {},
   "source": [
    "**Excercise:**\n",
    "Write a function to calculate the area of a circle.\n",
    "\n",
    "1. Function name: `calculate_circle_area`\n",
    "\n",
    "2. Parameter: The function should take the radius of the circle as a parameter.\n",
    "\n",
    "3. Formula: The area of a circle is calculated using the formula:\n",
    "    $$\n",
    "    Area=π×radius^2 \n",
    "    $$\n",
    "\n",
    "4. Return: The function should return the calculated `area` of the circle\n",
    "\n",
    "Tip: for pi you can use `np.pi`, but don't forget to import the library `numpy` as `np`"
   ]
  },
  {
   "cell_type": "code",
   "execution_count": 17,
   "metadata": {},
   "outputs": [],
   "source": [
    "# your function here\n",
    "\n",
    "\n"
   ]
  },
  {
   "cell_type": "code",
   "execution_count": null,
   "metadata": {},
   "outputs": [],
   "source": [
    "# Example: Calculate the area of a circle with radius 5\n",
    "radius = 5\n",
    "area = calculate_circle_area(radius)\n",
    "print(f\"The area of the circle is: {area} units²\")"
   ]
  },
  {
   "cell_type": "markdown",
   "metadata": {},
   "source": [
    "### Creating a Python Module\n",
    "\n",
    "The folder Modules will hold all your custom Python modules.\n",
    "\n",
    "Create a Python Script: Open a new Python file in your code editor and copy the necessary functions along with any required library imports into this file. For example, copy the `calculate_area` and `calculate_circle_area` functions as well as any import statements like `import numpy as np` or import xarray as xr, include them in this script.\n",
    "\n",
    "Save the Script: Save the Python script with a descriptive name, like `geometry.py`, and place it in the Modules folder.\n",
    "\n",
    "Using the Module: Once the Python script is in the Modules folder, you can import it in your notebooks or other Python files by using:\n",
    "\n",
    "    from geometry import calculate_area, calculate_circle_area\n"
   ]
  },
  {
   "cell_type": "code",
   "execution_count": 23,
   "metadata": {},
   "outputs": [],
   "source": [
    "# deleting the functions from before to be sure that the module is used in the next step\n",
    "del calculate_area, calculate_circle_area "
   ]
  },
  {
   "cell_type": "code",
   "execution_count": null,
   "metadata": {},
   "outputs": [],
   "source": [
    "# Import the module from a relative path\n",
    "import sys\n",
    "# we add the folder to Python's search path, allowing us to import custom modules from that directory\n",
    "sys.path.append('../Modules')  # Adjust the path to where geometry.py is located\n",
    "\n",
    "# Now you can import the functions\n",
    "from geometry import calculate_area, calculate_circle_area\n",
    "\n",
    "# Example usage\n",
    "length = 4\n",
    "width = None\n",
    "area_rectangle = calculate_area(length, width)\n",
    "print(f\"Rectangle area: {area_rectangle} units²\")\n",
    "\n",
    "radius = 4\n",
    "area_circle = calculate_circle_area(radius)\n",
    "print(f\"Circle area: {area_circle} units²\")"
   ]
  },
  {
   "cell_type": "code",
   "execution_count": 11,
   "metadata": {},
   "outputs": [],
   "source": []
  }
 ],
 "metadata": {
  "kernelspec": {
   "display_name": ".venv",
   "language": "python",
   "name": "python3"
  },
  "language_info": {
   "codemirror_mode": {
    "name": "ipython",
    "version": 3
   },
   "file_extension": ".py",
   "mimetype": "text/x-python",
   "name": "python",
   "nbconvert_exporter": "python",
   "pygments_lexer": "ipython3",
   "version": "3.12.2"
  }
 },
 "nbformat": 4,
 "nbformat_minor": 2
}
